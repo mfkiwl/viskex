{
 "cells": [
  {
   "cell_type": "code",
   "execution_count": null,
   "id": "e1d1a8f3",
   "metadata": {},
   "outputs": [],
   "source": [
    "import firedrake"
   ]
  },
  {
   "cell_type": "code",
   "execution_count": null,
   "id": "d989ef23-beac-434b-86a0-9d7b503100bb",
   "metadata": {},
   "outputs": [],
   "source": [
    "import viskex"
   ]
  },
  {
   "cell_type": "markdown",
   "id": "3c509030-0517-4678-95b7-cfaf0e627097",
   "metadata": {},
   "source": [
    "Generate and plot meshes"
   ]
  },
  {
   "cell_type": "code",
   "execution_count": null,
   "id": "d0cf45ab-4a89-4119-9501-d92abf719d10",
   "metadata": {},
   "outputs": [],
   "source": [
    "interval = firedrake.UnitIntervalMesh(5)\n",
    "square_tria = firedrake.UnitSquareMesh(4, 4, quadrilateral=False)\n",
    "square_quad = firedrake.UnitSquareMesh(4, 4, quadrilateral=True)\n",
    "cube_tetra = firedrake.UnitCubeMesh(3, 3, 3, hexahedral=False)\n",
    "cube_hexa = firedrake.UnitCubeMesh(3, 3, 3, hexahedral=True)"
   ]
  },
  {
   "cell_type": "code",
   "execution_count": null,
   "id": "2f42f2c8-e3dc-4b28-8fbd-57e5ae400450",
   "metadata": {},
   "outputs": [],
   "source": [
    "viskex.plot_mesh(interval)"
   ]
  },
  {
   "cell_type": "code",
   "execution_count": null,
   "id": "d0f32944-d1eb-4ebf-921a-1d8cd9a576a0",
   "metadata": {},
   "outputs": [],
   "source": [
    "viskex.plot_mesh(square_tria)"
   ]
  },
  {
   "cell_type": "code",
   "execution_count": null,
   "id": "bd0d8967-2705-42f0-be2a-209acac11bd9",
   "metadata": {},
   "outputs": [],
   "source": [
    "viskex.plot_mesh(square_quad)"
   ]
  },
  {
   "cell_type": "code",
   "execution_count": null,
   "id": "7d733dd0-4f80-40da-930f-2b56f0034a9f",
   "metadata": {},
   "outputs": [],
   "source": [
    "viskex.plot_mesh(cube_tetra)"
   ]
  },
  {
   "cell_type": "code",
   "execution_count": null,
   "id": "34a3480a-d2eb-4bec-af7b-d0047cfd9f34",
   "metadata": {},
   "outputs": [],
   "source": [
    "viskex.plot_mesh(cube_hexa)"
   ]
  }
 ],
 "metadata": {
  "kernelspec": {
   "display_name": "Python 3 (ipykernel)",
   "language": "python",
   "name": "python3"
  },
  "language_info": {
   "codemirror_mode": {
    "name": "ipython"
   },
   "file_extension": ".py",
   "mimetype": "text/x-python",
   "name": "python",
   "nbconvert_exporter": "python"
  }
 },
 "nbformat": 4,
 "nbformat_minor": 5
}
