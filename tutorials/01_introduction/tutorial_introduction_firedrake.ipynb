{
 "cells": [
  {
   "cell_type": "code",
   "execution_count": null,
   "id": "e1d1a8f3",
   "metadata": {},
   "outputs": [],
   "source": [
    "import firedrake"
   ]
  },
  {
   "cell_type": "code",
   "execution_count": null,
   "id": "d989ef23-beac-434b-86a0-9d7b503100bb",
   "metadata": {},
   "outputs": [],
   "source": [
    "import viskex"
   ]
  },
  {
   "cell_type": "markdown",
   "id": "3c509030-0517-4678-95b7-cfaf0e627097",
   "metadata": {},
   "source": [
    "Generate and plot meshes"
   ]
  },
  {
   "cell_type": "code",
   "execution_count": null,
   "id": "d0cf45ab-4a89-4119-9501-d92abf719d10",
   "metadata": {},
   "outputs": [],
   "source": [
    "interval = firedrake.UnitIntervalMesh(5)\n",
    "square_tria = firedrake.UnitSquareMesh(4, 4, quadrilateral=False, diagonal=\"right\")\n",
    "square_quad = firedrake.UnitSquareMesh(4, 4, quadrilateral=True, diagonal=\"right\")\n",
    "cube_tetra = firedrake.UnitCubeMesh(3, 3, 3, hexahedral=False)\n",
    "cube_hexa = firedrake.UnitCubeMesh(3, 3, 3, hexahedral=True)"
   ]
  },
  {
   "cell_type": "code",
   "execution_count": null,
   "id": "2f42f2c8-e3dc-4b28-8fbd-57e5ae400450",
   "metadata": {},
   "outputs": [],
   "source": [
    "viskex.plot_mesh(interval)"
   ]
  },
  {
   "cell_type": "code",
   "execution_count": null,
   "id": "c076fa88-3235-4441-9e28-0fc71cf24f26",
   "metadata": {},
   "outputs": [],
   "source": [
    "viskex.plot_mesh(interval, dim=1)"
   ]
  },
  {
   "cell_type": "code",
   "execution_count": null,
   "id": "529cd086-ccd4-4fb9-89bb-f8f52f81fb8b",
   "metadata": {},
   "outputs": [],
   "source": [
    "viskex.plot_mesh(interval, dim=0)"
   ]
  },
  {
   "cell_type": "code",
   "execution_count": null,
   "id": "d0f32944-d1eb-4ebf-921a-1d8cd9a576a0",
   "metadata": {},
   "outputs": [],
   "source": [
    "viskex.plot_mesh(square_tria)"
   ]
  },
  {
   "cell_type": "code",
   "execution_count": null,
   "id": "afa823f3-f208-4080-be7c-fdb2faa24812",
   "metadata": {},
   "outputs": [],
   "source": [
    "viskex.plot_mesh(square_tria, dim=2)"
   ]
  },
  {
   "cell_type": "code",
   "execution_count": null,
   "id": "d71b4431-3e71-4061-a135-bc66051b8c3a",
   "metadata": {},
   "outputs": [],
   "source": [
    "viskex.plot_mesh(square_tria, dim=1)"
   ]
  },
  {
   "cell_type": "code",
   "execution_count": null,
   "id": "cd0419c3-59ac-4d04-b947-451ea11f1bf9",
   "metadata": {},
   "outputs": [],
   "source": [
    "viskex.plot_mesh(square_tria, dim=0)"
   ]
  },
  {
   "cell_type": "code",
   "execution_count": null,
   "id": "bd0d8967-2705-42f0-be2a-209acac11bd9",
   "metadata": {},
   "outputs": [],
   "source": [
    "viskex.plot_mesh(square_quad)"
   ]
  },
  {
   "cell_type": "code",
   "execution_count": null,
   "id": "e31e6424-784d-498b-8fe4-ea539cb19b4a",
   "metadata": {},
   "outputs": [],
   "source": [
    "viskex.plot_mesh(square_quad, dim=2)"
   ]
  },
  {
   "cell_type": "code",
   "execution_count": null,
   "id": "a4210af1-35e8-4896-a33a-faadeeaa7675",
   "metadata": {},
   "outputs": [],
   "source": [
    "viskex.plot_mesh(square_quad, dim=1)"
   ]
  },
  {
   "cell_type": "code",
   "execution_count": null,
   "id": "60811f25-3772-4ff3-af89-e8df453879b9",
   "metadata": {},
   "outputs": [],
   "source": [
    "viskex.plot_mesh(square_quad, dim=0)"
   ]
  },
  {
   "cell_type": "code",
   "execution_count": null,
   "id": "7d733dd0-4f80-40da-930f-2b56f0034a9f",
   "metadata": {},
   "outputs": [],
   "source": [
    "viskex.plot_mesh(cube_tetra)"
   ]
  },
  {
   "cell_type": "code",
   "execution_count": null,
   "id": "23608645-151e-4f97-ac62-08f4b89373a8",
   "metadata": {},
   "outputs": [],
   "source": [
    "viskex.plot_mesh(cube_tetra, dim=3)"
   ]
  },
  {
   "cell_type": "code",
   "execution_count": null,
   "id": "7802e5bc-03ad-40e8-9cd4-cb553fa3a87a",
   "metadata": {},
   "outputs": [],
   "source": [
    "viskex.plot_mesh(cube_tetra, dim=2)"
   ]
  },
  {
   "cell_type": "code",
   "execution_count": null,
   "id": "9a1c62ad-d2a5-4e21-87f5-ea85a3d21c16",
   "metadata": {},
   "outputs": [],
   "source": [
    "viskex.plot_mesh(cube_tetra, dim=1)"
   ]
  },
  {
   "cell_type": "code",
   "execution_count": null,
   "id": "75d8426f-5701-410b-bea3-a88eb9f55dd8",
   "metadata": {},
   "outputs": [],
   "source": [
    "viskex.plot_mesh(cube_tetra, dim=0)"
   ]
  },
  {
   "cell_type": "code",
   "execution_count": null,
   "id": "34a3480a-d2eb-4bec-af7b-d0047cfd9f34",
   "metadata": {},
   "outputs": [],
   "source": [
    "viskex.plot_mesh(cube_hexa)"
   ]
  },
  {
   "cell_type": "code",
   "execution_count": null,
   "id": "1015634e-1549-4ca8-97aa-5e581c09d833",
   "metadata": {},
   "outputs": [],
   "source": [
    "viskex.plot_mesh(cube_hexa, dim=3)"
   ]
  },
  {
   "cell_type": "code",
   "execution_count": null,
   "id": "0f6f135b-00cf-4ab6-8057-111768755d0f",
   "metadata": {},
   "outputs": [],
   "source": [
    "viskex.plot_mesh(cube_hexa, dim=2)"
   ]
  },
  {
   "cell_type": "code",
   "execution_count": null,
   "id": "ffa9bd25-9e5a-4995-a7f2-0ed520f1a1ae",
   "metadata": {},
   "outputs": [],
   "source": [
    "viskex.plot_mesh(cube_hexa, dim=1)"
   ]
  },
  {
   "cell_type": "code",
   "execution_count": null,
   "id": "5322db7e-8272-45a8-858b-017395a50ba3",
   "metadata": {},
   "outputs": [],
   "source": [
    "viskex.plot_mesh(cube_hexa, dim=0)"
   ]
  }
 ],
 "metadata": {
  "kernelspec": {
   "display_name": "Python 3 (ipykernel)",
   "language": "python",
   "name": "python3"
  },
  "language_info": {
   "codemirror_mode": {
    "name": "ipython"
   },
   "file_extension": ".py",
   "mimetype": "text/x-python",
   "name": "python",
   "nbconvert_exporter": "python"
  }
 },
 "nbformat": 4,
 "nbformat_minor": 5
}
