{
 "cells": [
  {
   "cell_type": "markdown",
   "id": "4d88a34b-f611-4d37-9305-796e57dc82dd",
   "metadata": {},
   "source": [
    "# Plot subdomains mesh tags of a 3D dolfinx mesh"
   ]
  },
  {
   "cell_type": "code",
   "execution_count": null,
   "id": "775eabcd-7a6c-4725-963b-d0208ae1498e",
   "metadata": {},
   "outputs": [],
   "source": [
    "import dolfinx.mesh\n",
    "import mpi4py.MPI\n",
    "import numpy as np"
   ]
  },
  {
   "cell_type": "code",
   "execution_count": null,
   "id": "d000a091-97d1-4f3d-8d1d-33729bc5abf3",
   "metadata": {},
   "outputs": [],
   "source": [
    "import viskex"
   ]
  },
  {
   "cell_type": "code",
   "execution_count": null,
   "id": "321e3e70-7e40-41d0-9daa-39c2a18960e0",
   "metadata": {},
   "outputs": [],
   "source": [
    "import common_dolfinx as common  # isort: skip"
   ]
  },
  {
   "cell_type": "markdown",
   "id": "2c0e20f2-ab54-4fa9-b666-e464337efe0a",
   "metadata": {},
   "source": [
    "Generate meshes of the unit cube by dividing each edge of the cube in 6 segments, using either a tetrahedral or hexahedral mesh."
   ]
  },
  {
   "cell_type": "code",
   "execution_count": null,
   "id": "c7d28e33-c1b1-4ef6-8243-faad1c4fd10f",
   "metadata": {},
   "outputs": [],
   "source": [
    "cube_tetra = dolfinx.mesh.create_unit_cube(mpi4py.MPI.COMM_WORLD, 6, 6, 6, dolfinx.mesh.CellType.tetrahedron)\n",
    "cube_hexa = dolfinx.mesh.create_unit_cube(mpi4py.MPI.COMM_WORLD, 6, 6, 6, dolfinx.mesh.CellType.hexahedron)"
   ]
  },
  {
   "cell_type": "markdown",
   "id": "27928210-6e5a-4ac5-8646-f8979c1fc104",
   "metadata": {},
   "source": [
    "Mark subdomains according to the $(x, y, z)$ position of the vertices of the mesh:\n",
    "* if $x \\leq \\frac{1}{3}$, assign subdomain mesh tag equal to $1$;\n",
    "* if $x \\geq \\frac{2}{3}$, assign subdomain mesh tag equal to $2$;\n",
    "* otherwise, leave the subdomain mesh tag unassigned."
   ]
  },
  {
   "cell_type": "code",
   "execution_count": null,
   "id": "6d342911-b84a-4140-b4ce-708f1742f939",
   "metadata": {},
   "outputs": [],
   "source": [
    "cube_tetra_subdomains = common.mark_subdomains(cube_tetra)\n",
    "cube_hexa_subdomains = common.mark_subdomains(cube_hexa)"
   ]
  },
  {
   "cell_type": "markdown",
   "id": "51c8ae0c-d766-4ea9-aa60-453872db75e8",
   "metadata": {},
   "source": [
    "We first plot all subdomains with tag equal to $2$, which will be displayed with colors. The rest of the mesh cells are still included in the plot, but are colored in gray."
   ]
  },
  {
   "cell_type": "code",
   "execution_count": null,
   "id": "16741c66-b25a-444c-b4d2-8a89e6ebd588",
   "metadata": {},
   "outputs": [],
   "source": [
    "viskex.dolfinx.plot_mesh_entities(\n",
    "    cube_tetra, 3, \"subdomains_1\", cube_tetra_subdomains.indices[cube_tetra_subdomains.values == 2])"
   ]
  },
  {
   "cell_type": "markdown",
   "id": "491848da-eb32-4f5b-b2a2-e73ca2867634",
   "metadata": {},
   "source": [
    "We can also select more than one tag, but still plot them with the same color."
   ]
  },
  {
   "cell_type": "code",
   "execution_count": null,
   "id": "a5af4212-39d3-48f6-861a-a3683082826d",
   "metadata": {},
   "outputs": [],
   "source": [
    "viskex.dolfinx.plot_mesh_entities(\n",
    "    cube_tetra, 3, \"subdomains_12\", cube_tetra_subdomains.indices[np.isin(cube_tetra_subdomains.values, (1, 2))])"
   ]
  },
  {
   "cell_type": "markdown",
   "id": "e98d243e-1bb8-4046-8f91-a874d9dc0bcb",
   "metadata": {},
   "source": [
    "We next plot all subdomains, extracting their indices and values from the mesh tags."
   ]
  },
  {
   "cell_type": "code",
   "execution_count": null,
   "id": "c493b43d-1809-4d04-a013-2ad75deb0ffa",
   "metadata": {},
   "outputs": [],
   "source": [
    "viskex.dolfinx.plot_mesh_entities(\n",
    "    cube_tetra, 3, \"subdomains\", cube_tetra_subdomains.indices, cube_tetra_subdomains.values)"
   ]
  },
  {
   "cell_type": "markdown",
   "id": "9ceb0520-9762-477f-8ac0-cc51c758f0c0",
   "metadata": {},
   "source": [
    "For simplicity, mesh tags can also be plotted directly without extracting their indices and values."
   ]
  },
  {
   "cell_type": "code",
   "execution_count": null,
   "id": "00753d84-799c-4872-b828-55280871d339",
   "metadata": {},
   "outputs": [],
   "source": [
    "viskex.dolfinx.plot_mesh_tags(cube_tetra, cube_tetra_subdomains, \"subdomains\")"
   ]
  },
  {
   "cell_type": "code",
   "execution_count": null,
   "id": "3cf8a4e8-b358-4202-b9eb-81bbd08a2b94",
   "metadata": {},
   "outputs": [],
   "source": [
    "viskex.dolfinx.plot_mesh_tags(cube_hexa, cube_hexa_subdomains, \"subdomains\")"
   ]
  }
 ],
 "metadata": {
  "kernelspec": {
   "display_name": "Python 3 (ipykernel)",
   "language": "python",
   "name": "python3"
  },
  "language_info": {
   "codemirror_mode": {
    "name": "ipython"
   },
   "file_extension": ".py",
   "mimetype": "text/x-python",
   "name": "python",
   "nbconvert_exporter": "python"
  }
 },
 "nbformat": 4,
 "nbformat_minor": 5
}
