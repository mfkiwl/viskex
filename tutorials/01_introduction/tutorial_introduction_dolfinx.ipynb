{
 "cells": [
  {
   "cell_type": "code",
   "execution_count": null,
   "id": "512d4889",
   "metadata": {},
   "outputs": [],
   "source": [
    "import dolfinx.mesh\n",
    "import mpi4py.MPI"
   ]
  },
  {
   "cell_type": "code",
   "execution_count": null,
   "id": "7d7a5e6a",
   "metadata": {},
   "outputs": [],
   "source": [
    "import viskex"
   ]
  },
  {
   "cell_type": "markdown",
   "id": "2aac82ba-4618-44fc-82f3-a08103310da2",
   "metadata": {},
   "source": [
    "Generate and plot meshes"
   ]
  },
  {
   "cell_type": "code",
   "execution_count": null,
   "id": "ba747903",
   "metadata": {},
   "outputs": [],
   "source": [
    "interval = dolfinx.mesh.create_unit_interval(mpi4py.MPI.COMM_WORLD, 5)\n",
    "square_tria = dolfinx.mesh.create_unit_square(mpi4py.MPI.COMM_WORLD, 4, 4, dolfinx.mesh.CellType.triangle)\n",
    "square_quad = dolfinx.mesh.create_unit_square(mpi4py.MPI.COMM_WORLD, 4, 4, dolfinx.mesh.CellType.quadrilateral)\n",
    "cube_tetra = dolfinx.mesh.create_unit_cube(mpi4py.MPI.COMM_WORLD, 3, 3, 3, dolfinx.mesh.CellType.tetrahedron)\n",
    "cube_hexa = dolfinx.mesh.create_unit_cube(mpi4py.MPI.COMM_WORLD, 3, 3, 3, dolfinx.mesh.CellType.hexahedron)"
   ]
  },
  {
   "cell_type": "code",
   "execution_count": null,
   "id": "d58ae618",
   "metadata": {},
   "outputs": [],
   "source": [
    "viskex.plot_mesh(interval)"
   ]
  },
  {
   "cell_type": "code",
   "execution_count": null,
   "id": "39363ece",
   "metadata": {},
   "outputs": [],
   "source": [
    "viskex.plot_mesh(square_tria)"
   ]
  },
  {
   "cell_type": "code",
   "execution_count": null,
   "id": "1cd5c95d-5d95-4f4c-a384-eac8c02a2e93",
   "metadata": {},
   "outputs": [],
   "source": [
    "viskex.plot_mesh(square_quad)"
   ]
  },
  {
   "cell_type": "code",
   "execution_count": null,
   "id": "6428946d-5635-47f7-b3d4-33ecde49fc79",
   "metadata": {},
   "outputs": [],
   "source": [
    "viskex.plot_mesh(cube_tetra)"
   ]
  },
  {
   "cell_type": "code",
   "execution_count": null,
   "id": "b6d23347-0e20-49aa-9fa9-dc438b8523d4",
   "metadata": {},
   "outputs": [],
   "source": [
    "viskex.plot_mesh(cube_hexa)"
   ]
  }
 ],
 "metadata": {
  "kernelspec": {
   "display_name": "Python 3 (ipykernel)",
   "language": "python",
   "name": "python3"
  },
  "language_info": {
   "codemirror_mode": {
    "name": "ipython"
   },
   "file_extension": ".py",
   "mimetype": "text/x-python",
   "name": "python",
   "nbconvert_exporter": "python"
  }
 },
 "nbformat": 4,
 "nbformat_minor": 5
}
