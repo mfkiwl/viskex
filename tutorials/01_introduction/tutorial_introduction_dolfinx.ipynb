{
 "cells": [
  {
   "cell_type": "code",
   "execution_count": null,
   "id": "512d4889",
   "metadata": {},
   "outputs": [],
   "source": [
    "import dolfinx.mesh\n",
    "import mpi4py.MPI\n",
    "import numpy as np"
   ]
  },
  {
   "cell_type": "code",
   "execution_count": null,
   "id": "7d7a5e6a",
   "metadata": {},
   "outputs": [],
   "source": [
    "import viskex"
   ]
  },
  {
   "cell_type": "markdown",
   "id": "2aac82ba-4618-44fc-82f3-a08103310da2",
   "metadata": {},
   "source": [
    "Generate and plot meshes"
   ]
  },
  {
   "cell_type": "code",
   "execution_count": null,
   "id": "ba747903",
   "metadata": {},
   "outputs": [],
   "source": [
    "interval = dolfinx.mesh.create_unit_interval(mpi4py.MPI.COMM_WORLD, 5)\n",
    "square_tria = dolfinx.mesh.create_unit_square(mpi4py.MPI.COMM_WORLD, 4, 4, dolfinx.mesh.CellType.triangle)\n",
    "square_quad = dolfinx.mesh.create_unit_square(mpi4py.MPI.COMM_WORLD, 4, 4, dolfinx.mesh.CellType.quadrilateral)\n",
    "cube_tetra = dolfinx.mesh.create_unit_cube(mpi4py.MPI.COMM_WORLD, 3, 3, 3, dolfinx.mesh.CellType.tetrahedron)\n",
    "cube_hexa = dolfinx.mesh.create_unit_cube(mpi4py.MPI.COMM_WORLD, 3, 3, 3, dolfinx.mesh.CellType.hexahedron)"
   ]
  },
  {
   "cell_type": "code",
   "execution_count": null,
   "id": "d58ae618",
   "metadata": {},
   "outputs": [],
   "source": [
    "viskex.plot_mesh(interval)"
   ]
  },
  {
   "cell_type": "code",
   "execution_count": null,
   "id": "dc0010d6-a39d-4336-ab3e-364470ec56d7",
   "metadata": {},
   "outputs": [],
   "source": [
    "viskex.plot_mesh(interval, dim=1)"
   ]
  },
  {
   "cell_type": "code",
   "execution_count": null,
   "id": "ca1572dc-2392-4316-9900-adcb34b167ba",
   "metadata": {},
   "outputs": [],
   "source": [
    "viskex.plot_mesh(interval, dim=0)"
   ]
  },
  {
   "cell_type": "code",
   "execution_count": null,
   "id": "39363ece",
   "metadata": {},
   "outputs": [],
   "source": [
    "viskex.plot_mesh(square_tria)"
   ]
  },
  {
   "cell_type": "code",
   "execution_count": null,
   "id": "35546866-680b-449a-9bdd-7608481d0b09",
   "metadata": {},
   "outputs": [],
   "source": [
    "viskex.plot_mesh(square_tria, dim=2)"
   ]
  },
  {
   "cell_type": "code",
   "execution_count": null,
   "id": "f67f18f0-622e-4bd4-9036-946b3ef5b810",
   "metadata": {},
   "outputs": [],
   "source": [
    "viskex.plot_mesh(square_tria, dim=1)"
   ]
  },
  {
   "cell_type": "code",
   "execution_count": null,
   "id": "81607bae-2f62-44f1-aa94-482df21d4380",
   "metadata": {},
   "outputs": [],
   "source": [
    "viskex.plot_mesh(square_tria, dim=0)"
   ]
  },
  {
   "cell_type": "code",
   "execution_count": null,
   "id": "1cd5c95d-5d95-4f4c-a384-eac8c02a2e93",
   "metadata": {},
   "outputs": [],
   "source": [
    "viskex.plot_mesh(square_quad)"
   ]
  },
  {
   "cell_type": "code",
   "execution_count": null,
   "id": "c3b24acb-3f49-443e-9713-c758fc296948",
   "metadata": {},
   "outputs": [],
   "source": [
    "viskex.plot_mesh(square_quad, dim=2)"
   ]
  },
  {
   "cell_type": "code",
   "execution_count": null,
   "id": "1b7b2b44-278c-42d7-a50c-e81582a66667",
   "metadata": {},
   "outputs": [],
   "source": [
    "viskex.plot_mesh(square_quad, dim=1)"
   ]
  },
  {
   "cell_type": "code",
   "execution_count": null,
   "id": "4b347ad3-0bfc-4c65-a179-cf92314b4159",
   "metadata": {},
   "outputs": [],
   "source": [
    "viskex.plot_mesh(square_quad, dim=0)"
   ]
  },
  {
   "cell_type": "code",
   "execution_count": null,
   "id": "6428946d-5635-47f7-b3d4-33ecde49fc79",
   "metadata": {},
   "outputs": [],
   "source": [
    "viskex.plot_mesh(cube_tetra)"
   ]
  },
  {
   "cell_type": "code",
   "execution_count": null,
   "id": "d0060daf-ee93-4bac-8ad0-c9b9bbd735cd",
   "metadata": {},
   "outputs": [],
   "source": [
    "viskex.plot_mesh(cube_tetra, dim=3)"
   ]
  },
  {
   "cell_type": "code",
   "execution_count": null,
   "id": "cc1abd38-4e04-4155-9de9-8fc085f98b6d",
   "metadata": {},
   "outputs": [],
   "source": [
    "viskex.plot_mesh(cube_tetra, dim=2)"
   ]
  },
  {
   "cell_type": "code",
   "execution_count": null,
   "id": "bf53cc5c-4f30-4e7c-872c-1898eba6cc62",
   "metadata": {},
   "outputs": [],
   "source": [
    "viskex.plot_mesh(cube_tetra, dim=1)"
   ]
  },
  {
   "cell_type": "code",
   "execution_count": null,
   "id": "693ec3ea-f71d-4b41-a25b-e98609a0de20",
   "metadata": {},
   "outputs": [],
   "source": [
    "viskex.plot_mesh(cube_tetra, dim=0)"
   ]
  },
  {
   "cell_type": "code",
   "execution_count": null,
   "id": "b6d23347-0e20-49aa-9fa9-dc438b8523d4",
   "metadata": {},
   "outputs": [],
   "source": [
    "viskex.plot_mesh(cube_hexa)"
   ]
  },
  {
   "cell_type": "code",
   "execution_count": null,
   "id": "e5072017-1813-41dc-ba41-620053bfe79b",
   "metadata": {},
   "outputs": [],
   "source": [
    "viskex.plot_mesh(cube_hexa, dim=3)"
   ]
  },
  {
   "cell_type": "code",
   "execution_count": null,
   "id": "98272501-553d-4368-bfe5-86b67772f59c",
   "metadata": {},
   "outputs": [],
   "source": [
    "viskex.plot_mesh(cube_hexa, dim=2)"
   ]
  },
  {
   "cell_type": "code",
   "execution_count": null,
   "id": "b8fb3d56-f62e-44db-8268-09fcb7dfee37",
   "metadata": {},
   "outputs": [],
   "source": [
    "viskex.plot_mesh(cube_hexa, dim=1)"
   ]
  },
  {
   "cell_type": "code",
   "execution_count": null,
   "id": "cd2b3608-6acb-4365-ae56-2173e819aace",
   "metadata": {},
   "outputs": [],
   "source": [
    "viskex.plot_mesh(cube_hexa, dim=0)"
   ]
  }
 ],
 "metadata": {
  "kernelspec": {
   "display_name": "Python 3 (ipykernel)",
   "language": "python",
   "name": "python3"
  },
  "language_info": {
   "codemirror_mode": {
    "name": "ipython"
   },
   "file_extension": ".py",
   "mimetype": "text/x-python",
   "name": "python",
   "nbconvert_exporter": "python"
  }
 },
 "nbformat": 4,
 "nbformat_minor": 5
}
