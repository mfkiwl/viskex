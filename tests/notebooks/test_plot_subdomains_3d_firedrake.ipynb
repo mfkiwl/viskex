{
 "cells": [
  {
   "cell_type": "code",
   "execution_count": null,
   "id": "1918a541-9f09-429e-891e-66547863295c",
   "metadata": {},
   "outputs": [],
   "source": [
    "import firedrake\n",
    "import numpy as np"
   ]
  },
  {
   "cell_type": "code",
   "execution_count": null,
   "id": "ffc8aee3-bf2c-4fd5-99e1-8cd572a10741",
   "metadata": {},
   "outputs": [],
   "source": [
    "import viskex"
   ]
  },
  {
   "cell_type": "code",
   "execution_count": null,
   "id": "5b9e6595-6544-498f-aebc-d5ea6118f9b5",
   "metadata": {},
   "outputs": [],
   "source": [
    "import common_firedrake as common  # isort: skip"
   ]
  },
  {
   "cell_type": "code",
   "execution_count": null,
   "id": "c3da8177-588f-40dc-9e68-4161fa6da82c",
   "metadata": {},
   "outputs": [],
   "source": [
    "cube_tetra = firedrake.UnitCubeMesh(3, 3, 3, hexahedral=False)\n",
    "cube_hexa = firedrake.UnitCubeMesh(3, 3, 3, hexahedral=True)"
   ]
  },
  {
   "cell_type": "code",
   "execution_count": null,
   "id": "10d7b9fc-32d3-4732-a33d-fc8d598da5ef",
   "metadata": {},
   "outputs": [],
   "source": [
    "cube_tetra_with_subdomains = common.mark_subdomains(cube_tetra)\n",
    "cube_hexa_with_subdomains = common.mark_subdomains(cube_hexa)"
   ]
  },
  {
   "cell_type": "code",
   "execution_count": null,
   "id": "14435cf2-062f-4475-8bc4-a3a80d37843f",
   "metadata": {},
   "outputs": [],
   "source": [
    "viskex.firedrake.plot_mesh_entities(\n",
    "    cube_tetra_with_subdomains, 3, \"subdomains\", cube_tetra_with_subdomains.cell_subset(2).indices)"
   ]
  },
  {
   "cell_type": "code",
   "execution_count": null,
   "id": "5dc3a6ef-40d0-4991-a327-0859f9f17ad2",
   "metadata": {},
   "outputs": [],
   "source": [
    "viskex.firedrake.plot_mesh_entities(\n",
    "    cube_tetra_with_subdomains, 3, \"subdomains\", cube_tetra_with_subdomains.cell_subset(2).indices,\n",
    "    2 * np.ones_like(cube_tetra_with_subdomains.cell_subset(2).indices))"
   ]
  },
  {
   "cell_type": "code",
   "execution_count": null,
   "id": "9fa3edc1-f355-44f0-bd0a-fbbd8665f115",
   "metadata": {},
   "outputs": [],
   "source": [
    "viskex.firedrake.plot_mesh_sets(cube_tetra_with_subdomains, 3, \"subdomains\")"
   ]
  },
  {
   "cell_type": "code",
   "execution_count": null,
   "id": "9bdb0e44-d19c-49ae-91c0-221edd4a007a",
   "metadata": {},
   "outputs": [],
   "source": [
    "viskex.firedrake.plot_mesh_sets(cube_hexa_with_subdomains, 3, \"subdomains\")"
   ]
  }
 ],
 "metadata": {
  "kernelspec": {
   "display_name": "Python 3 (ipykernel)",
   "language": "python",
   "name": "python3"
  },
  "language_info": {
   "codemirror_mode": {
    "name": "ipython"
   },
   "file_extension": ".py",
   "mimetype": "text/x-python",
   "name": "python",
   "nbconvert_exporter": "python"
  }
 },
 "nbformat": 4,
 "nbformat_minor": 5
}
