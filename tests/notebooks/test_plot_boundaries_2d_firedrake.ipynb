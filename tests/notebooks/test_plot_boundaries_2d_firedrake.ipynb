{
 "cells": [
  {
   "cell_type": "code",
   "execution_count": null,
   "id": "1918a541-9f09-429e-891e-66547863295c",
   "metadata": {},
   "outputs": [],
   "source": [
    "import firedrake\n",
    "import numpy as np"
   ]
  },
  {
   "cell_type": "code",
   "execution_count": null,
   "id": "ffc8aee3-bf2c-4fd5-99e1-8cd572a10741",
   "metadata": {},
   "outputs": [],
   "source": [
    "import viskex"
   ]
  },
  {
   "cell_type": "code",
   "execution_count": null,
   "id": "5b9e6595-6544-498f-aebc-d5ea6118f9b5",
   "metadata": {},
   "outputs": [],
   "source": [
    "import common_firedrake as common  # isort: skip"
   ]
  },
  {
   "cell_type": "code",
   "execution_count": null,
   "id": "a2dd17b7-a796-42e1-b0f3-854ecea7df1a",
   "metadata": {},
   "outputs": [],
   "source": [
    "square_tria = firedrake.UnitSquareMesh(3, 3, quadrilateral=False, diagonal=\"right\")\n",
    "square_quad = firedrake.UnitSquareMesh(3, 3, quadrilateral=True, diagonal=\"right\")"
   ]
  },
  {
   "cell_type": "code",
   "execution_count": null,
   "id": "75acff6e-7fb6-4fb5-8b90-f8afbe7ef2e1",
   "metadata": {},
   "outputs": [],
   "source": [
    "square_tria_with_boundaries = common.mark_boundaries(square_tria)\n",
    "square_quad_with_boundaries = common.mark_boundaries(square_quad)"
   ]
  },
  {
   "cell_type": "code",
   "execution_count": null,
   "id": "7fb849b4-e82e-4dfa-a361-3419c73caacd",
   "metadata": {},
   "outputs": [],
   "source": [
    "viskex.firedrake.plot_mesh_entities(\n",
    "    square_tria_with_boundaries, 1, \"boundaries\",\n",
    "    square_tria_with_boundaries.exterior_facets.measure_set(\"exterior_facet\", 4).indices)"
   ]
  },
  {
   "cell_type": "code",
   "execution_count": null,
   "id": "4a617b90-4bbc-40c7-81a4-499342ddfe0f",
   "metadata": {},
   "outputs": [],
   "source": [
    "viskex.firedrake.plot_mesh_entities(\n",
    "    square_tria_with_boundaries, 1, \"boundaries\",\n",
    "    np.concatenate((\n",
    "        square_tria_with_boundaries.exterior_facets.measure_set(\"exterior_facet\", 2).indices,\n",
    "        square_tria_with_boundaries.exterior_facets.measure_set(\"exterior_facet\", \"everywhere\").size\n",
    "        + square_tria_with_boundaries.interior_facets.measure_set(\"interior_facet\", 2).indices\n",
    "    )))"
   ]
  },
  {
   "cell_type": "code",
   "execution_count": null,
   "id": "52d662f1-245c-4397-be9f-01d30fd20e14",
   "metadata": {},
   "outputs": [],
   "source": [
    "viskex.firedrake.plot_mesh_sets(square_tria_with_boundaries, 1, \"boundaries\")"
   ]
  },
  {
   "cell_type": "code",
   "execution_count": null,
   "id": "5e7543c9-d26e-49fc-a998-9836423a442b",
   "metadata": {},
   "outputs": [],
   "source": [
    "viskex.firedrake.plot_mesh_sets(square_quad_with_boundaries, 1, \"boundaries\")"
   ]
  }
 ],
 "metadata": {
  "kernelspec": {
   "display_name": "Python 3 (ipykernel)",
   "language": "python",
   "name": "python3"
  },
  "language_info": {
   "codemirror_mode": {
    "name": "ipython"
   },
   "file_extension": ".py",
   "mimetype": "text/x-python",
   "name": "python",
   "nbconvert_exporter": "python"
  }
 },
 "nbformat": 4,
 "nbformat_minor": 5
}
