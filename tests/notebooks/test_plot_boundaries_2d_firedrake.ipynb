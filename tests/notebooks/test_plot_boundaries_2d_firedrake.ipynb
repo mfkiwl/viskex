{
 "cells": [
  {
   "cell_type": "markdown",
   "id": "7969bbe9-037b-4fb7-820c-81b1aa5a547a",
   "metadata": {},
   "source": [
    "# Plot boundaries mesh sets of a 2D firedrake mesh"
   ]
  },
  {
   "cell_type": "code",
   "execution_count": null,
   "id": "1918a541-9f09-429e-891e-66547863295c",
   "metadata": {},
   "outputs": [],
   "source": [
    "import firedrake\n",
    "import numpy as np"
   ]
  },
  {
   "cell_type": "code",
   "execution_count": null,
   "id": "ffc8aee3-bf2c-4fd5-99e1-8cd572a10741",
   "metadata": {},
   "outputs": [],
   "source": [
    "import viskex"
   ]
  },
  {
   "cell_type": "code",
   "execution_count": null,
   "id": "5b9e6595-6544-498f-aebc-d5ea6118f9b5",
   "metadata": {},
   "outputs": [],
   "source": [
    "import common_firedrake as common  # isort: skip"
   ]
  },
  {
   "cell_type": "markdown",
   "id": "83283f24-1880-4d29-8d33-0eee75841e69",
   "metadata": {},
   "source": [
    "Generate meshes of the unit square by dividing each edge of the square in 3 segments, using either a triangular or quadrangular mesh."
   ]
  },
  {
   "cell_type": "code",
   "execution_count": null,
   "id": "a2dd17b7-a796-42e1-b0f3-854ecea7df1a",
   "metadata": {},
   "outputs": [],
   "source": [
    "square_tria = firedrake.UnitSquareMesh(3, 3, quadrilateral=False, diagonal=\"right\")\n",
    "square_quad = firedrake.UnitSquareMesh(3, 3, quadrilateral=True, diagonal=\"right\")"
   ]
  },
  {
   "cell_type": "markdown",
   "id": "a09d6dc7-6589-4b3b-a74b-f04763e96eaa",
   "metadata": {},
   "source": [
    "Mark boundaries according to the $(x, y)$ position of the vertices of the mesh:\n",
    "* if $x > 0$ and $x \\leq \\frac{1}{3}$, assign boundary mesh tag equal to $1$;\n",
    "* if $x \\geq \\frac{2}{3}$ and $x < 1$, assign boundary mesh tag equal to $2$;\n",
    "* if $x = 0$, assign boundary mesh tag equal to $3$;\n",
    "* if $x = 1$, assign boundary mesh tag equal to $4$;\n",
    "* otherwise, leave the boundary mesh tag unassigned."
   ]
  },
  {
   "cell_type": "code",
   "execution_count": null,
   "id": "75acff6e-7fb6-4fb5-8b90-f8afbe7ef2e1",
   "metadata": {},
   "outputs": [],
   "source": [
    "square_tria_with_boundaries = common.mark_boundaries(square_tria)\n",
    "square_quad_with_boundaries = common.mark_boundaries(square_quad)"
   ]
  },
  {
   "cell_type": "markdown",
   "id": "99aa4559-eca4-4745-b380-d489b279d914",
   "metadata": {},
   "source": [
    "We first plot all boundaries with tag equal to $4$ (first plot) or $2$ (second plot), which will be displayed with colors. The rest of the mesh facets are still included in the plot, but are colored in gray."
   ]
  },
  {
   "cell_type": "code",
   "execution_count": null,
   "id": "7fb849b4-e82e-4dfa-a361-3419c73caacd",
   "metadata": {},
   "outputs": [],
   "source": [
    "viskex.firedrake.plot_mesh_entities(\n",
    "    square_tria_with_boundaries, 1, \"boundaries_4\",\n",
    "    square_tria_with_boundaries.exterior_facets.measure_set(\"exterior_facet\", 4).indices)"
   ]
  },
  {
   "cell_type": "code",
   "execution_count": null,
   "id": "4a617b90-4bbc-40c7-81a4-499342ddfe0f",
   "metadata": {},
   "outputs": [],
   "source": [
    "viskex.firedrake.plot_mesh_entities(\n",
    "    square_tria_with_boundaries, 1, \"boundaries_2\",\n",
    "    np.concatenate((\n",
    "        square_tria_with_boundaries.exterior_facets.measure_set(\"exterior_facet\", 2).indices,\n",
    "        square_tria_with_boundaries.exterior_facets.measure_set(\"exterior_facet\", \"everywhere\").total_size\n",
    "        + square_tria_with_boundaries.interior_facets.measure_set(\"interior_facet\", 2).indices\n",
    "    )))"
   ]
  },
  {
   "cell_type": "markdown",
   "id": "715262c0-c688-469b-8471-cd85930cd368",
   "metadata": {},
   "source": [
    "We can also select more than one set, but still plot them with the same color."
   ]
  },
  {
   "cell_type": "code",
   "execution_count": null,
   "id": "7382182d-b663-46b8-b3f6-7e0e079c1ba0",
   "metadata": {},
   "outputs": [],
   "source": [
    "viskex.firedrake.plot_mesh_entities(\n",
    "    square_tria_with_boundaries, 1, \"boundaries_14\",\n",
    "    np.concatenate((\n",
    "        square_tria_with_boundaries.exterior_facets.measure_set(\"exterior_facet\", 1).indices,\n",
    "        square_tria_with_boundaries.exterior_facets.measure_set(\"exterior_facet\", \"everywhere\").total_size\n",
    "        + square_tria_with_boundaries.interior_facets.measure_set(\"interior_facet\", 1).indices,\n",
    "        square_tria_with_boundaries.exterior_facets.measure_set(\"exterior_facet\", 4).indices)))"
   ]
  },
  {
   "cell_type": "markdown",
   "id": "b708863a-3689-48b3-90bb-6f771249f04b",
   "metadata": {},
   "source": [
    "For simplicity, mesh sets can also be plotted directly without extracting their indices and values."
   ]
  },
  {
   "cell_type": "code",
   "execution_count": null,
   "id": "52d662f1-245c-4397-be9f-01d30fd20e14",
   "metadata": {},
   "outputs": [],
   "source": [
    "viskex.firedrake.plot_mesh_sets(square_tria_with_boundaries, 1, \"boundaries\")"
   ]
  },
  {
   "cell_type": "code",
   "execution_count": null,
   "id": "5e7543c9-d26e-49fc-a998-9836423a442b",
   "metadata": {},
   "outputs": [],
   "source": [
    "viskex.firedrake.plot_mesh_sets(square_quad_with_boundaries, 1, \"boundaries\")"
   ]
  },
  {
   "cell_type": "markdown",
   "id": "5e9378cd-9678-4a6f-a556-2434511582ba",
   "metadata": {},
   "source": [
    "The mesh sets are stored as part of the firedrake mesh object. If the mesh sets get removed, all cells will be displayed in gray in the plot."
   ]
  },
  {
   "cell_type": "code",
   "execution_count": null,
   "id": "9c9f888c-390a-4fd9-ab2a-d57a0e67670c",
   "metadata": {},
   "outputs": [],
   "source": [
    "square_tria.topology_dm.removeLabel(firedrake.cython.dmcommon.FACE_SETS_LABEL)\n",
    "square_quad.topology_dm.removeLabel(firedrake.cython.dmcommon.FACE_SETS_LABEL)"
   ]
  },
  {
   "cell_type": "code",
   "execution_count": null,
   "id": "2489db3a-0ec8-450e-9165-9fa91af9395e",
   "metadata": {},
   "outputs": [],
   "source": [
    "viskex.firedrake.plot_mesh_sets(square_tria, 1, \"boundaries\")"
   ]
  },
  {
   "cell_type": "code",
   "execution_count": null,
   "id": "22f21e28-122d-4a23-99a1-7b5fee558c10",
   "metadata": {},
   "outputs": [],
   "source": [
    "viskex.firedrake.plot_mesh_sets(square_quad, 1, \"boundaries\")"
   ]
  }
 ],
 "metadata": {
  "kernelspec": {
   "display_name": "Python 3 (ipykernel)",
   "language": "python",
   "name": "python3"
  },
  "language_info": {
   "codemirror_mode": {
    "name": "ipython"
   },
   "file_extension": ".py",
   "mimetype": "text/x-python",
   "name": "python",
   "nbconvert_exporter": "python"
  }
 },
 "nbformat": 4,
 "nbformat_minor": 5
}
