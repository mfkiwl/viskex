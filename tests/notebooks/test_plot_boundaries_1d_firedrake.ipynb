{
 "cells": [
  {
   "cell_type": "markdown",
   "id": "db9d0c7d-1ccc-41f9-bf8b-1499c58bedd0",
   "metadata": {},
   "source": [
    "# Plot boundaries mesh sets of a 1D firedrake mesh"
   ]
  },
  {
   "cell_type": "code",
   "execution_count": null,
   "id": "1918a541-9f09-429e-891e-66547863295c",
   "metadata": {},
   "outputs": [],
   "source": [
    "import firedrake\n",
    "import numpy as np"
   ]
  },
  {
   "cell_type": "code",
   "execution_count": null,
   "id": "ffc8aee3-bf2c-4fd5-99e1-8cd572a10741",
   "metadata": {},
   "outputs": [],
   "source": [
    "import viskex"
   ]
  },
  {
   "cell_type": "code",
   "execution_count": null,
   "id": "5b9e6595-6544-498f-aebc-d5ea6118f9b5",
   "metadata": {},
   "outputs": [],
   "source": [
    "import common_firedrake as common  # isort: skip"
   ]
  },
  {
   "cell_type": "markdown",
   "id": "0698be18-c688-46ab-822b-a6d5b0ffd416",
   "metadata": {},
   "source": [
    "Generate a mesh of the unit interval, divided into six cells."
   ]
  },
  {
   "cell_type": "code",
   "execution_count": null,
   "id": "80b65417-4621-46f1-8403-6a30562b5312",
   "metadata": {},
   "outputs": [],
   "source": [
    "interval = firedrake.UnitIntervalMesh(6)"
   ]
  },
  {
   "cell_type": "markdown",
   "id": "ec9345d5-3f07-4fcf-9f0c-19b4acd10d94",
   "metadata": {},
   "source": [
    "Mark boundaries according to the $x$ position of the vertices of the mesh:\n",
    "* if $x > 0$ and $x \\leq \\frac{1}{3}$, assign boundary to the mesh set $1$;\n",
    "* if $x \\geq \\frac{2}{3}$ and $x < 1$, assign boundary to the mesh set $2$;\n",
    "* if $x = 0$, assign boundary to the mesh set $3$;\n",
    "* if $x = 1$, assign boundary to the mesh set $4$;\n",
    "* otherwise, leave the boundary unassigned to any mesh set."
   ]
  },
  {
   "cell_type": "code",
   "execution_count": null,
   "id": "53609038-c281-48ae-878a-ff2dd810a1c3",
   "metadata": {},
   "outputs": [],
   "source": [
    "interval_with_boundaries = common.mark_boundaries(interval)"
   ]
  },
  {
   "cell_type": "markdown",
   "id": "6ebe2480-cfc1-4e5b-9842-38d36a286b8c",
   "metadata": {},
   "source": [
    "We first plot all boundaries with tag equal to $4$ (first plot) or $2$ (second plot), which will be displayed with colors. The rest of the mesh facets are still included in the plot, but are colored in gray."
   ]
  },
  {
   "cell_type": "code",
   "execution_count": null,
   "id": "8dc2035f-094b-4665-9bcf-eea39b15a057",
   "metadata": {},
   "outputs": [],
   "source": [
    "viskex.firedrake.plot_mesh_entities(\n",
    "    interval_with_boundaries, 0, \"boundaries_4\",\n",
    "    interval_with_boundaries.exterior_facets.measure_set(\"exterior_facet\", 4).indices)"
   ]
  },
  {
   "cell_type": "code",
   "execution_count": null,
   "id": "6b4d2877-0e75-4e23-b0a2-3c308e5f0a68",
   "metadata": {},
   "outputs": [],
   "source": [
    "viskex.firedrake.plot_mesh_entities(\n",
    "    interval_with_boundaries, 0, \"boundaries_2\",\n",
    "    interval_with_boundaries.exterior_facets.measure_set(\"exterior_facet\", \"everywhere\").size\n",
    "    + interval_with_boundaries.interior_facets.measure_set(\"interior_facet\", 2).indices)"
   ]
  },
  {
   "cell_type": "markdown",
   "id": "0cbe9cb3-bd34-4a4f-a03b-f14bc8d2436c",
   "metadata": {},
   "source": [
    "We can also select more than one set, but still plot them with the same color."
   ]
  },
  {
   "cell_type": "code",
   "execution_count": null,
   "id": "a7d3f904-e202-4bf8-a76e-0a69c955f41e",
   "metadata": {},
   "outputs": [],
   "source": [
    "viskex.firedrake.plot_mesh_entities(\n",
    "    interval_with_boundaries, 0, \"boundaries_14\",\n",
    "    np.concatenate((\n",
    "        interval_with_boundaries.exterior_facets.measure_set(\"exterior_facet\", \"everywhere\").size\n",
    "        + interval_with_boundaries.interior_facets.measure_set(\"interior_facet\", 1).indices,\n",
    "        interval_with_boundaries.exterior_facets.measure_set(\"exterior_facet\", 4).indices)))"
   ]
  },
  {
   "cell_type": "markdown",
   "id": "84e3ccee-1f2b-4d46-9419-d29f92d29f30",
   "metadata": {},
   "source": [
    "For simplicity, mesh sets can also be plotted directly without extracting their indices and values."
   ]
  },
  {
   "cell_type": "code",
   "execution_count": null,
   "id": "f8e43947-2455-44e5-879c-6f95b699a2cd",
   "metadata": {},
   "outputs": [],
   "source": [
    "viskex.firedrake.plot_mesh_sets(interval_with_boundaries, 0, \"boundaries\")"
   ]
  },
  {
   "cell_type": "markdown",
   "id": "83e59286-7c5c-4461-b42b-3bd120d36fd1",
   "metadata": {},
   "source": [
    "The mesh sets are stored as part of the firedrake mesh object. If the mesh sets get removed, all cells will be displayed in gray in the plot."
   ]
  },
  {
   "cell_type": "code",
   "execution_count": null,
   "id": "18e14008-548b-45e6-9a6c-b699646b3113",
   "metadata": {},
   "outputs": [],
   "source": [
    "interval.topology_dm.removeLabel(firedrake.cython.dmcommon.FACE_SETS_LABEL)"
   ]
  },
  {
   "cell_type": "code",
   "execution_count": null,
   "id": "39e20a2c-d004-4466-96c3-e3c797eed82d",
   "metadata": {},
   "outputs": [],
   "source": [
    "viskex.firedrake.plot_mesh_sets(interval, 0, \"boundaries\")"
   ]
  }
 ],
 "metadata": {
  "kernelspec": {
   "display_name": "Python 3 (ipykernel)",
   "language": "python",
   "name": "python3"
  },
  "language_info": {
   "codemirror_mode": {
    "name": "ipython"
   },
   "file_extension": ".py",
   "mimetype": "text/x-python",
   "name": "python",
   "nbconvert_exporter": "python"
  }
 },
 "nbformat": 4,
 "nbformat_minor": 5
}
