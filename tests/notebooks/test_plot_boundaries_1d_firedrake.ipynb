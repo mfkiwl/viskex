{
 "cells": [
  {
   "cell_type": "code",
   "execution_count": null,
   "id": "1918a541-9f09-429e-891e-66547863295c",
   "metadata": {},
   "outputs": [],
   "source": [
    "import firedrake"
   ]
  },
  {
   "cell_type": "code",
   "execution_count": null,
   "id": "ffc8aee3-bf2c-4fd5-99e1-8cd572a10741",
   "metadata": {},
   "outputs": [],
   "source": [
    "import viskex"
   ]
  },
  {
   "cell_type": "code",
   "execution_count": null,
   "id": "5b9e6595-6544-498f-aebc-d5ea6118f9b5",
   "metadata": {},
   "outputs": [],
   "source": [
    "import common_firedrake as common  # isort: skip"
   ]
  },
  {
   "cell_type": "code",
   "execution_count": null,
   "id": "80b65417-4621-46f1-8403-6a30562b5312",
   "metadata": {},
   "outputs": [],
   "source": [
    "interval = firedrake.UnitIntervalMesh(6)"
   ]
  },
  {
   "cell_type": "code",
   "execution_count": null,
   "id": "53609038-c281-48ae-878a-ff2dd810a1c3",
   "metadata": {},
   "outputs": [],
   "source": [
    "interval_with_boundaries = common.mark_boundaries(interval)"
   ]
  },
  {
   "cell_type": "code",
   "execution_count": null,
   "id": "8dc2035f-094b-4665-9bcf-eea39b15a057",
   "metadata": {},
   "outputs": [],
   "source": [
    "viskex.firedrake.plot_mesh_entities(\n",
    "    interval_with_boundaries, 0, \"boundaries\",\n",
    "    interval_with_boundaries.exterior_facets.measure_set(\"exterior_facet\", 4).indices)"
   ]
  },
  {
   "cell_type": "code",
   "execution_count": null,
   "id": "6b4d2877-0e75-4e23-b0a2-3c308e5f0a68",
   "metadata": {},
   "outputs": [],
   "source": [
    "viskex.firedrake.plot_mesh_entities(\n",
    "    interval_with_boundaries, 0, \"boundaries\",\n",
    "    interval_with_boundaries.exterior_facets.measure_set(\"exterior_facet\", \"everywhere\").size\n",
    "    + interval_with_boundaries.interior_facets.measure_set(\"interior_facet\", 2).indices)"
   ]
  },
  {
   "cell_type": "code",
   "execution_count": null,
   "id": "f8e43947-2455-44e5-879c-6f95b699a2cd",
   "metadata": {},
   "outputs": [],
   "source": [
    "viskex.firedrake.plot_mesh_sets(interval_with_boundaries, 0, \"boundaries\")"
   ]
  }
 ],
 "metadata": {
  "kernelspec": {
   "display_name": "Python 3 (ipykernel)",
   "language": "python",
   "name": "python3"
  },
  "language_info": {
   "codemirror_mode": {
    "name": "ipython"
   },
   "file_extension": ".py",
   "mimetype": "text/x-python",
   "name": "python",
   "nbconvert_exporter": "python"
  }
 },
 "nbformat": 4,
 "nbformat_minor": 5
}
