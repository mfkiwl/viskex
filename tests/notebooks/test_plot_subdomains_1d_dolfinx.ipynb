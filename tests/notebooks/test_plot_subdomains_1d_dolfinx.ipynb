{
 "cells": [
  {
   "cell_type": "code",
   "execution_count": null,
   "id": "775eabcd-7a6c-4725-963b-d0208ae1498e",
   "metadata": {},
   "outputs": [],
   "source": [
    "import dolfinx.mesh\n",
    "import mpi4py.MPI"
   ]
  },
  {
   "cell_type": "code",
   "execution_count": null,
   "id": "d000a091-97d1-4f3d-8d1d-33729bc5abf3",
   "metadata": {},
   "outputs": [],
   "source": [
    "import viskex"
   ]
  },
  {
   "cell_type": "code",
   "execution_count": null,
   "id": "40424143-aedd-47a0-94e8-ad96d4de3843",
   "metadata": {},
   "outputs": [],
   "source": [
    "import common_dolfinx as common  # isort: skip"
   ]
  },
  {
   "cell_type": "code",
   "execution_count": null,
   "id": "09a067d7-f3e8-4b42-b500-cf2e09aa5087",
   "metadata": {},
   "outputs": [],
   "source": [
    "interval = dolfinx.mesh.create_unit_interval(mpi4py.MPI.COMM_WORLD, 6)"
   ]
  },
  {
   "cell_type": "code",
   "execution_count": null,
   "id": "8e21b9b7-ceda-47b7-a7e4-5ac0104b19d3",
   "metadata": {},
   "outputs": [],
   "source": [
    "interval_subdomains = common.mark_subdomains(interval)"
   ]
  },
  {
   "cell_type": "code",
   "execution_count": null,
   "id": "1378193f-9c26-4058-9af0-2053d08c3b2e",
   "metadata": {},
   "outputs": [],
   "source": [
    "viskex.dolfinx.plot_mesh_entities(\n",
    "    interval, 1, \"subdomains\", interval_subdomains.indices[interval_subdomains.values == 2])"
   ]
  },
  {
   "cell_type": "code",
   "execution_count": null,
   "id": "108931e3-24b8-41b5-9898-e1805303b929",
   "metadata": {},
   "outputs": [],
   "source": [
    "viskex.dolfinx.plot_mesh_entities(\n",
    "    interval, 1, \"subdomains\", interval_subdomains.indices, interval_subdomains.values)"
   ]
  },
  {
   "cell_type": "code",
   "execution_count": null,
   "id": "a37f54b0-de39-4631-8fd7-5fb17d286f79",
   "metadata": {},
   "outputs": [],
   "source": [
    "viskex.dolfinx.plot_mesh_tags(interval, interval_subdomains, \"subdomains\")"
   ]
  }
 ],
 "metadata": {
  "kernelspec": {
   "display_name": "Python 3 (ipykernel)",
   "language": "python",
   "name": "python3"
  },
  "language_info": {
   "codemirror_mode": {
    "name": "ipython"
   },
   "file_extension": ".py",
   "mimetype": "text/x-python",
   "name": "python",
   "nbconvert_exporter": "python"
  }
 },
 "nbformat": 4,
 "nbformat_minor": 5
}
