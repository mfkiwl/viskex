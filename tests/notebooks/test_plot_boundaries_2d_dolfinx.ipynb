{
 "cells": [
  {
   "cell_type": "code",
   "execution_count": null,
   "id": "775eabcd-7a6c-4725-963b-d0208ae1498e",
   "metadata": {},
   "outputs": [],
   "source": [
    "import dolfinx.mesh\n",
    "import mpi4py.MPI"
   ]
  },
  {
   "cell_type": "code",
   "execution_count": null,
   "id": "d000a091-97d1-4f3d-8d1d-33729bc5abf3",
   "metadata": {},
   "outputs": [],
   "source": [
    "import viskex"
   ]
  },
  {
   "cell_type": "code",
   "execution_count": null,
   "id": "84ee1245-b9ff-4a05-8293-87c4918db46e",
   "metadata": {},
   "outputs": [],
   "source": [
    "import common_dolfinx as common  # isort: skip"
   ]
  },
  {
   "cell_type": "code",
   "execution_count": null,
   "id": "2be9578c-806f-45b4-917c-aabfcd0deaa1",
   "metadata": {},
   "outputs": [],
   "source": [
    "square_tria = dolfinx.mesh.create_unit_square(mpi4py.MPI.COMM_WORLD, 3, 3, dolfinx.mesh.CellType.triangle)\n",
    "square_quad = dolfinx.mesh.create_unit_square(mpi4py.MPI.COMM_WORLD, 3, 3, dolfinx.mesh.CellType.quadrilateral)"
   ]
  },
  {
   "cell_type": "code",
   "execution_count": null,
   "id": "12a5833c-73b7-455a-a4d9-efe90e4ef038",
   "metadata": {},
   "outputs": [],
   "source": [
    "square_tria_subdomains = common.mark_subdomains(square_tria)\n",
    "square_quad_subdomains = common.mark_subdomains(square_quad)\n",
    "square_tria_boundaries = common.mark_boundaries(square_tria, square_tria_subdomains)\n",
    "square_quad_boundaries = common.mark_boundaries(square_quad, square_quad_subdomains)"
   ]
  },
  {
   "cell_type": "code",
   "execution_count": null,
   "id": "7086e03f-9a7f-45c7-942a-c4950b59834c",
   "metadata": {},
   "outputs": [],
   "source": [
    "viskex.dolfinx.plot_mesh_entities(\n",
    "    square_tria, 1, \"boundaries\", square_tria_boundaries.indices[square_tria_boundaries.values == 2])"
   ]
  },
  {
   "cell_type": "code",
   "execution_count": null,
   "id": "866d26f4-48a7-46b5-9e9d-f8398b2c56e6",
   "metadata": {},
   "outputs": [],
   "source": [
    "viskex.dolfinx.plot_mesh_entities(\n",
    "    square_tria, 1, \"boundaries\", square_tria_boundaries.indices, square_tria_boundaries.values)"
   ]
  },
  {
   "cell_type": "code",
   "execution_count": null,
   "id": "bccfd16f-0fdd-43c5-a388-865453af31e3",
   "metadata": {},
   "outputs": [],
   "source": [
    "viskex.dolfinx.plot_mesh_tags(square_tria, square_tria_boundaries, \"boundaries\")"
   ]
  },
  {
   "cell_type": "code",
   "execution_count": null,
   "id": "5e0dd609-0299-44d3-aa6b-6189c884c2a9",
   "metadata": {},
   "outputs": [],
   "source": [
    "viskex.dolfinx.plot_mesh_tags(square_quad, square_quad_boundaries, \"boundaries\")"
   ]
  }
 ],
 "metadata": {
  "kernelspec": {
   "display_name": "Python 3 (ipykernel)",
   "language": "python",
   "name": "python3"
  },
  "language_info": {
   "codemirror_mode": {
    "name": "ipython"
   },
   "file_extension": ".py",
   "mimetype": "text/x-python",
   "name": "python",
   "nbconvert_exporter": "python"
  }
 },
 "nbformat": 4,
 "nbformat_minor": 5
}
