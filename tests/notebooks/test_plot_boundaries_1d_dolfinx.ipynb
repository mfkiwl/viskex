{
 "cells": [
  {
   "cell_type": "code",
   "execution_count": null,
   "id": "775eabcd-7a6c-4725-963b-d0208ae1498e",
   "metadata": {},
   "outputs": [],
   "source": [
    "import dolfinx.mesh\n",
    "import mpi4py.MPI"
   ]
  },
  {
   "cell_type": "code",
   "execution_count": null,
   "id": "d000a091-97d1-4f3d-8d1d-33729bc5abf3",
   "metadata": {},
   "outputs": [],
   "source": [
    "import viskex"
   ]
  },
  {
   "cell_type": "code",
   "execution_count": null,
   "id": "84ee1245-b9ff-4a05-8293-87c4918db46e",
   "metadata": {},
   "outputs": [],
   "source": [
    "import common_dolfinx as common  # isort: skip"
   ]
  },
  {
   "cell_type": "code",
   "execution_count": null,
   "id": "64a5b722-33ec-4dbb-8d0b-83e97b11a5a8",
   "metadata": {},
   "outputs": [],
   "source": [
    "interval = dolfinx.mesh.create_unit_interval(mpi4py.MPI.COMM_WORLD, 6)"
   ]
  },
  {
   "cell_type": "code",
   "execution_count": null,
   "id": "f6fe76b4-0bcb-4fa0-9dd4-1753fc2e5f2c",
   "metadata": {},
   "outputs": [],
   "source": [
    "interval_subdomains = common.mark_subdomains(interval)\n",
    "interval_boundaries = common.mark_boundaries(interval, interval_subdomains)"
   ]
  },
  {
   "cell_type": "code",
   "execution_count": null,
   "id": "f8118038-d688-49b6-8f81-90bb11420e51",
   "metadata": {},
   "outputs": [],
   "source": [
    "viskex.dolfinx.plot_mesh_entities(\n",
    "    interval, 0, \"boundaries\", interval_boundaries.indices[interval_boundaries.values == 2])"
   ]
  },
  {
   "cell_type": "code",
   "execution_count": null,
   "id": "98e2d4b7-f9ce-466e-a226-3a31ab948f33",
   "metadata": {},
   "outputs": [],
   "source": [
    "viskex.dolfinx.plot_mesh_entities(\n",
    "    interval, 0, \"boundaries\", interval_boundaries.indices, interval_boundaries.values)"
   ]
  },
  {
   "cell_type": "code",
   "execution_count": null,
   "id": "137da574-20eb-47d4-a1f4-b405f58a6e35",
   "metadata": {},
   "outputs": [],
   "source": [
    "viskex.dolfinx.plot_mesh_tags(interval, interval_boundaries, \"boundaries\")"
   ]
  }
 ],
 "metadata": {
  "kernelspec": {
   "display_name": "Python 3 (ipykernel)",
   "language": "python",
   "name": "python3"
  },
  "language_info": {
   "codemirror_mode": {
    "name": "ipython"
   },
   "file_extension": ".py",
   "mimetype": "text/x-python",
   "name": "python",
   "nbconvert_exporter": "python"
  }
 },
 "nbformat": 4,
 "nbformat_minor": 5
}
