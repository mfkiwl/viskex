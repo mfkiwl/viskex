{
 "cells": [
  {
   "cell_type": "code",
   "execution_count": null,
   "id": "1918a541-9f09-429e-891e-66547863295c",
   "metadata": {},
   "outputs": [],
   "source": [
    "import firedrake"
   ]
  },
  {
   "cell_type": "code",
   "execution_count": null,
   "id": "ffc8aee3-bf2c-4fd5-99e1-8cd572a10741",
   "metadata": {},
   "outputs": [],
   "source": [
    "import viskex"
   ]
  },
  {
   "cell_type": "code",
   "execution_count": null,
   "id": "5b9e6595-6544-498f-aebc-d5ea6118f9b5",
   "metadata": {},
   "outputs": [],
   "source": [
    "import common_firedrake as common  # isort: skip"
   ]
  },
  {
   "cell_type": "code",
   "execution_count": null,
   "id": "91e5c248-dd14-426d-a56e-89fd7201dab0",
   "metadata": {},
   "outputs": [],
   "source": [
    "interval = firedrake.UnitIntervalMesh(6)"
   ]
  },
  {
   "cell_type": "code",
   "execution_count": null,
   "id": "6e05264e-74ee-4702-a590-b2d88878c863",
   "metadata": {},
   "outputs": [],
   "source": [
    "interval_scalar_field, interval_scalar_field_ufl = common.prepare_scalar_field_cases(\n",
    "    interval, lambda x: x[0]**3)"
   ]
  },
  {
   "cell_type": "code",
   "execution_count": null,
   "id": "d72b33ae-6fa6-43af-97cf-2c45d3ae598b",
   "metadata": {},
   "outputs": [],
   "source": [
    "viskex.firedrake.plot_scalar_field(interval_scalar_field, \"scalar\")"
   ]
  },
  {
   "cell_type": "code",
   "execution_count": null,
   "id": "a4f7cf2c-43b4-4a80-9a02-3b2b48abbe62",
   "metadata": {},
   "outputs": [],
   "source": [
    "viskex.firedrake.plot_scalar_field(interval_scalar_field_ufl, \"scalar\")"
   ]
  }
 ],
 "metadata": {
  "kernelspec": {
   "display_name": "Python 3 (ipykernel)",
   "language": "python",
   "name": "python3"
  },
  "language_info": {
   "codemirror_mode": {
    "name": "ipython"
   },
   "file_extension": ".py",
   "mimetype": "text/x-python",
   "name": "python",
   "nbconvert_exporter": "python"
  }
 },
 "nbformat": 4,
 "nbformat_minor": 5
}
