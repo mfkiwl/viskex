{
 "cells": [
  {
   "cell_type": "code",
   "execution_count": null,
   "id": "775eabcd-7a6c-4725-963b-d0208ae1498e",
   "metadata": {},
   "outputs": [],
   "source": [
    "import dolfinx.mesh\n",
    "import mpi4py.MPI"
   ]
  },
  {
   "cell_type": "code",
   "execution_count": null,
   "id": "d000a091-97d1-4f3d-8d1d-33729bc5abf3",
   "metadata": {},
   "outputs": [],
   "source": [
    "import viskex"
   ]
  },
  {
   "cell_type": "code",
   "execution_count": null,
   "id": "019f8b3f-3715-4e41-b81a-a47cceab55de",
   "metadata": {},
   "outputs": [],
   "source": [
    "import common_dolfinx as common  # isort: skip"
   ]
  },
  {
   "cell_type": "code",
   "execution_count": null,
   "id": "c63628e4-7746-458d-aa92-e27c230dff71",
   "metadata": {},
   "outputs": [],
   "source": [
    "square_tria = dolfinx.mesh.create_unit_square(mpi4py.MPI.COMM_WORLD, 3, 3, dolfinx.mesh.CellType.triangle)\n",
    "square_quad = dolfinx.mesh.create_unit_square(mpi4py.MPI.COMM_WORLD, 3, 3, dolfinx.mesh.CellType.quadrilateral)"
   ]
  },
  {
   "cell_type": "code",
   "execution_count": null,
   "id": "1f45d965-1183-44fd-8f19-2da585844c14",
   "metadata": {},
   "outputs": [],
   "source": [
    "square_tria_subdomains = common.mark_subdomains(square_tria)\n",
    "square_quad_subdomains = common.mark_subdomains(square_quad)"
   ]
  },
  {
   "cell_type": "code",
   "execution_count": null,
   "id": "8f0cefde-af64-40d5-a009-8dee6a5e0e23",
   "metadata": {},
   "outputs": [],
   "source": [
    "viskex.dolfinx.plot_mesh_entities(\n",
    "    square_tria, 2, \"subdomains\", square_tria_subdomains.indices[square_tria_subdomains.values == 2])"
   ]
  },
  {
   "cell_type": "code",
   "execution_count": null,
   "id": "09b8b311-7020-463e-9a7d-cbdf95ebee96",
   "metadata": {},
   "outputs": [],
   "source": [
    "viskex.dolfinx.plot_mesh_entities(\n",
    "    square_tria, 2, \"subdomains\", square_tria_subdomains.indices, square_tria_subdomains.values)"
   ]
  },
  {
   "cell_type": "code",
   "execution_count": null,
   "id": "8796761c-b777-4f03-a99b-e3e513ac01dd",
   "metadata": {},
   "outputs": [],
   "source": [
    "viskex.dolfinx.plot_mesh_tags(square_tria, square_tria_subdomains, \"subdomains\")"
   ]
  },
  {
   "cell_type": "code",
   "execution_count": null,
   "id": "925723c1-dca9-4e7a-989c-3d4d64c834d8",
   "metadata": {},
   "outputs": [],
   "source": [
    "viskex.dolfinx.plot_mesh_tags(square_quad, square_quad_subdomains, \"subdomains\")"
   ]
  }
 ],
 "metadata": {
  "kernelspec": {
   "display_name": "Python 3 (ipykernel)",
   "language": "python",
   "name": "python3"
  },
  "language_info": {
   "codemirror_mode": {
    "name": "ipython"
   },
   "file_extension": ".py",
   "mimetype": "text/x-python",
   "name": "python",
   "nbconvert_exporter": "python"
  }
 },
 "nbformat": 4,
 "nbformat_minor": 5
}
