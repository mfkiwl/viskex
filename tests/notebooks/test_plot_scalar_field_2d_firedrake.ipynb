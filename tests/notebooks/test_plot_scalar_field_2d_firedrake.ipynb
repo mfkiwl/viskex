{
 "cells": [
  {
   "cell_type": "code",
   "execution_count": null,
   "id": "1918a541-9f09-429e-891e-66547863295c",
   "metadata": {},
   "outputs": [],
   "source": [
    "import firedrake"
   ]
  },
  {
   "cell_type": "code",
   "execution_count": null,
   "id": "ffc8aee3-bf2c-4fd5-99e1-8cd572a10741",
   "metadata": {},
   "outputs": [],
   "source": [
    "import viskex"
   ]
  },
  {
   "cell_type": "code",
   "execution_count": null,
   "id": "5b9e6595-6544-498f-aebc-d5ea6118f9b5",
   "metadata": {},
   "outputs": [],
   "source": [
    "import common_firedrake as common  # isort: skip"
   ]
  },
  {
   "cell_type": "code",
   "execution_count": null,
   "id": "40088943-9360-4478-9103-a814b7030a7a",
   "metadata": {},
   "outputs": [],
   "source": [
    "square_tria = firedrake.UnitSquareMesh(3, 3, quadrilateral=False, diagonal=\"right\")\n",
    "square_quad = firedrake.UnitSquareMesh(3, 3, quadrilateral=True, diagonal=\"right\")"
   ]
  },
  {
   "cell_type": "code",
   "execution_count": null,
   "id": "cfb9eac4-a984-498c-925b-fb97d02b828e",
   "metadata": {},
   "outputs": [],
   "source": [
    "square_tria_scalar_field, square_tria_scalar_field_ufl = common.prepare_scalar_field_cases(\n",
    "    square_tria, lambda x: x[0]**3 + x[1]**2)\n",
    "square_quad_scalar_field, square_quad_scalar_field_ufl = common.prepare_scalar_field_cases(\n",
    "    square_quad, lambda x: x[0]**3 + x[1]**2)"
   ]
  },
  {
   "cell_type": "code",
   "execution_count": null,
   "id": "21462a70-b2f2-4a61-976c-a72342da407b",
   "metadata": {},
   "outputs": [],
   "source": [
    "viskex.firedrake.plot_scalar_field(square_tria_scalar_field, \"scalar\")"
   ]
  },
  {
   "cell_type": "code",
   "execution_count": null,
   "id": "755abc41-5cb2-40ba-b9be-4ba47bc18f77",
   "metadata": {},
   "outputs": [],
   "source": [
    "viskex.firedrake.plot_scalar_field(square_tria_scalar_field, \"scalar\", warp_factor=1.0)"
   ]
  },
  {
   "cell_type": "code",
   "execution_count": null,
   "id": "96ea9986-bdc0-4faa-87de-783a9a27ee27",
   "metadata": {},
   "outputs": [],
   "source": [
    "viskex.firedrake.plot_scalar_field(square_tria_scalar_field_ufl, \"scalar\")"
   ]
  },
  {
   "cell_type": "code",
   "execution_count": null,
   "id": "2194d546-ac47-46f4-816a-013920703aea",
   "metadata": {},
   "outputs": [],
   "source": [
    "viskex.firedrake.plot_scalar_field(square_quad_scalar_field, \"scalar\")"
   ]
  },
  {
   "cell_type": "code",
   "execution_count": null,
   "id": "50495470-c23b-4e87-8b22-0ae41ecea47e",
   "metadata": {},
   "outputs": [],
   "source": [
    "viskex.firedrake.plot_scalar_field(square_quad_scalar_field, \"scalar\", warp_factor=1.0)"
   ]
  },
  {
   "cell_type": "code",
   "execution_count": null,
   "id": "00ed31df-4cc9-465b-b32f-5df80adda34e",
   "metadata": {},
   "outputs": [],
   "source": [
    "viskex.firedrake.plot_scalar_field(square_quad_scalar_field_ufl, \"scalar\")"
   ]
  }
 ],
 "metadata": {
  "kernelspec": {
   "display_name": "Python 3 (ipykernel)",
   "language": "python",
   "name": "python3"
  },
  "language_info": {
   "codemirror_mode": {
    "name": "ipython"
   },
   "file_extension": ".py",
   "mimetype": "text/x-python",
   "name": "python",
   "nbconvert_exporter": "python"
  }
 },
 "nbformat": 4,
 "nbformat_minor": 5
}
