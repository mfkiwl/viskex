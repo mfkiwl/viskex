{
 "cells": [
  {
   "cell_type": "code",
   "execution_count": null,
   "id": "1918a541-9f09-429e-891e-66547863295c",
   "metadata": {},
   "outputs": [],
   "source": [
    "import firedrake\n",
    "import numpy as np"
   ]
  },
  {
   "cell_type": "code",
   "execution_count": null,
   "id": "ffc8aee3-bf2c-4fd5-99e1-8cd572a10741",
   "metadata": {},
   "outputs": [],
   "source": [
    "import viskex"
   ]
  },
  {
   "cell_type": "code",
   "execution_count": null,
   "id": "5b9e6595-6544-498f-aebc-d5ea6118f9b5",
   "metadata": {},
   "outputs": [],
   "source": [
    "import common_firedrake as common  # isort: skip"
   ]
  },
  {
   "cell_type": "code",
   "execution_count": null,
   "id": "3817853d-03e4-4128-9f4e-3e749c7e37d3",
   "metadata": {},
   "outputs": [],
   "source": [
    "interval = firedrake.UnitIntervalMesh(6)"
   ]
  },
  {
   "cell_type": "code",
   "execution_count": null,
   "id": "81dd5a7f-6e43-4638-84c7-453d6de25e04",
   "metadata": {},
   "outputs": [],
   "source": [
    "interval_with_subdomains = common.mark_subdomains(interval)"
   ]
  },
  {
   "cell_type": "code",
   "execution_count": null,
   "id": "7cabbe7c-d157-4a0b-ab86-157476066e36",
   "metadata": {},
   "outputs": [],
   "source": [
    "viskex.firedrake.plot_mesh_entities(\n",
    "    interval_with_subdomains, 1, \"subdomains\", interval_with_subdomains.cell_subset(2).indices)"
   ]
  },
  {
   "cell_type": "code",
   "execution_count": null,
   "id": "21323152-bc38-4859-9264-63c79c57bb4c",
   "metadata": {},
   "outputs": [],
   "source": [
    "viskex.firedrake.plot_mesh_entities(\n",
    "    interval_with_subdomains, 1, \"subdomains\", interval_with_subdomains.cell_subset(2).indices,\n",
    "    2 * np.ones_like(interval_with_subdomains.cell_subset(2).indices))"
   ]
  },
  {
   "cell_type": "code",
   "execution_count": null,
   "id": "cd014316-a73e-4957-9d34-bd7f526f123e",
   "metadata": {},
   "outputs": [],
   "source": [
    "viskex.firedrake.plot_mesh_sets(interval_with_subdomains, 1, \"subdomains\")"
   ]
  }
 ],
 "metadata": {
  "kernelspec": {
   "display_name": "Python 3 (ipykernel)",
   "language": "python",
   "name": "python3"
  },
  "language_info": {
   "codemirror_mode": {
    "name": "ipython"
   },
   "file_extension": ".py",
   "mimetype": "text/x-python",
   "name": "python",
   "nbconvert_exporter": "python"
  }
 },
 "nbformat": 4,
 "nbformat_minor": 5
}
