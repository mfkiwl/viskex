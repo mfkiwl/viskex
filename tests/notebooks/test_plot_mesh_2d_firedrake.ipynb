{
 "cells": [
  {
   "cell_type": "code",
   "execution_count": null,
   "id": "1918a541-9f09-429e-891e-66547863295c",
   "metadata": {},
   "outputs": [],
   "source": [
    "import firedrake"
   ]
  },
  {
   "cell_type": "code",
   "execution_count": null,
   "id": "ffc8aee3-bf2c-4fd5-99e1-8cd572a10741",
   "metadata": {},
   "outputs": [],
   "source": [
    "import viskex"
   ]
  },
  {
   "cell_type": "code",
   "execution_count": null,
   "id": "a1b6c089-6706-4c33-8b39-bb4c55e6f490",
   "metadata": {},
   "outputs": [],
   "source": [
    "square_tria = firedrake.UnitSquareMesh(3, 3, quadrilateral=False, diagonal=\"right\")\n",
    "square_quad = firedrake.UnitSquareMesh(3, 3, quadrilateral=True, diagonal=\"right\")"
   ]
  },
  {
   "cell_type": "code",
   "execution_count": null,
   "id": "a6f64491-765c-41cb-87b2-c7038d28d1d9",
   "metadata": {},
   "outputs": [],
   "source": [
    "viskex.firedrake.plot_mesh(square_tria)"
   ]
  },
  {
   "cell_type": "code",
   "execution_count": null,
   "id": "38179aca-a9ad-462a-aa87-ac1f8b13debc",
   "metadata": {},
   "outputs": [],
   "source": [
    "viskex.firedrake.plot_mesh(square_tria, dim=2)"
   ]
  },
  {
   "cell_type": "code",
   "execution_count": null,
   "id": "6d917945-a76e-4225-8307-cdf0e1fa0277",
   "metadata": {},
   "outputs": [],
   "source": [
    "viskex.firedrake.plot_mesh(square_tria, dim=1)"
   ]
  },
  {
   "cell_type": "code",
   "execution_count": null,
   "id": "1df6a322-75f3-4632-815e-3842322c8752",
   "metadata": {},
   "outputs": [],
   "source": [
    "viskex.firedrake.plot_mesh(square_tria, dim=0)"
   ]
  },
  {
   "cell_type": "code",
   "execution_count": null,
   "id": "88c40e1b-3cb2-42d8-a0f7-c26299e14ef7",
   "metadata": {},
   "outputs": [],
   "source": [
    "viskex.firedrake.plot_mesh(square_quad)"
   ]
  },
  {
   "cell_type": "code",
   "execution_count": null,
   "id": "32031013-44f1-41a0-9e80-5bf67d9df93c",
   "metadata": {},
   "outputs": [],
   "source": [
    "viskex.firedrake.plot_mesh(square_quad, dim=2)"
   ]
  },
  {
   "cell_type": "code",
   "execution_count": null,
   "id": "53744ad1-a46e-4100-b5cf-3d7d40e07dad",
   "metadata": {},
   "outputs": [],
   "source": [
    "viskex.firedrake.plot_mesh(square_quad, dim=1)"
   ]
  },
  {
   "cell_type": "code",
   "execution_count": null,
   "id": "145434a9-9353-4f70-b9ce-8ce32f518335",
   "metadata": {},
   "outputs": [],
   "source": [
    "viskex.firedrake.plot_mesh(square_quad, dim=0)"
   ]
  }
 ],
 "metadata": {
  "kernelspec": {
   "display_name": "Python 3 (ipykernel)",
   "language": "python",
   "name": "python3"
  },
  "language_info": {
   "codemirror_mode": {
    "name": "ipython"
   },
   "file_extension": ".py",
   "mimetype": "text/x-python",
   "name": "python",
   "nbconvert_exporter": "python"
  }
 },
 "nbformat": 4,
 "nbformat_minor": 5
}
