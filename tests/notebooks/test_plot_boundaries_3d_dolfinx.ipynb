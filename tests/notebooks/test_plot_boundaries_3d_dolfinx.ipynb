{
 "cells": [
  {
   "cell_type": "code",
   "execution_count": null,
   "id": "775eabcd-7a6c-4725-963b-d0208ae1498e",
   "metadata": {},
   "outputs": [],
   "source": [
    "import dolfinx.mesh\n",
    "import mpi4py.MPI"
   ]
  },
  {
   "cell_type": "code",
   "execution_count": null,
   "id": "d000a091-97d1-4f3d-8d1d-33729bc5abf3",
   "metadata": {},
   "outputs": [],
   "source": [
    "import viskex"
   ]
  },
  {
   "cell_type": "code",
   "execution_count": null,
   "id": "84ee1245-b9ff-4a05-8293-87c4918db46e",
   "metadata": {},
   "outputs": [],
   "source": [
    "import common_dolfinx as common  # isort: skip"
   ]
  },
  {
   "cell_type": "code",
   "execution_count": null,
   "id": "5c9377b2-2ad3-45c7-9d05-7a71f21be882",
   "metadata": {},
   "outputs": [],
   "source": [
    "cube_tetra = dolfinx.mesh.create_unit_cube(mpi4py.MPI.COMM_WORLD, 3, 3, 3, dolfinx.mesh.CellType.tetrahedron)\n",
    "cube_hexa = dolfinx.mesh.create_unit_cube(mpi4py.MPI.COMM_WORLD, 3, 3, 3, dolfinx.mesh.CellType.hexahedron)"
   ]
  },
  {
   "cell_type": "code",
   "execution_count": null,
   "id": "20ee42ad-f9ba-4d68-816d-80a7d9601783",
   "metadata": {},
   "outputs": [],
   "source": [
    "cube_tetra_subdomains = common.mark_subdomains(cube_tetra)\n",
    "cube_hexa_subdomains = common.mark_subdomains(cube_hexa)\n",
    "cube_tetra_boundaries = common.mark_boundaries(cube_tetra, cube_tetra_subdomains)\n",
    "cube_hexa_boundaries = common.mark_boundaries(cube_hexa, cube_hexa_subdomains)"
   ]
  },
  {
   "cell_type": "code",
   "execution_count": null,
   "id": "913e84cd-3f03-429d-a837-a697fcdd6a37",
   "metadata": {},
   "outputs": [],
   "source": [
    "viskex.dolfinx.plot_mesh_entities(\n",
    "    cube_tetra, 2, \"boundaries\", cube_tetra_boundaries.indices[cube_tetra_boundaries.values == 2],\n",
    "    opacity=0.5)"
   ]
  },
  {
   "cell_type": "code",
   "execution_count": null,
   "id": "23b06e62-7b7a-49aa-8123-9c448b58b8f4",
   "metadata": {},
   "outputs": [],
   "source": [
    "viskex.dolfinx.plot_mesh_entities(\n",
    "    cube_tetra, 2, \"boundaries\", cube_tetra_boundaries.indices, cube_tetra_boundaries.values)"
   ]
  },
  {
   "cell_type": "code",
   "execution_count": null,
   "id": "266031cd-cb85-46bc-8ca1-fb9225f474d3",
   "metadata": {},
   "outputs": [],
   "source": [
    "viskex.dolfinx.plot_mesh_tags(cube_tetra, cube_tetra_boundaries, \"boundaries\")"
   ]
  },
  {
   "cell_type": "code",
   "execution_count": null,
   "id": "2934b3ce-52bb-46ca-b063-0b78303275a4",
   "metadata": {},
   "outputs": [],
   "source": [
    "viskex.dolfinx.plot_mesh_tags(cube_hexa, cube_hexa_boundaries, \"boundaries\")"
   ]
  }
 ],
 "metadata": {
  "kernelspec": {
   "display_name": "Python 3 (ipykernel)",
   "language": "python",
   "name": "python3"
  },
  "language_info": {
   "codemirror_mode": {
    "name": "ipython"
   },
   "file_extension": ".py",
   "mimetype": "text/x-python",
   "name": "python",
   "nbconvert_exporter": "python"
  }
 },
 "nbformat": 4,
 "nbformat_minor": 5
}
