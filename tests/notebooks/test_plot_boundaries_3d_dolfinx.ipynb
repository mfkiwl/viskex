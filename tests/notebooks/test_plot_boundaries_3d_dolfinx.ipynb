{
 "cells": [
  {
   "cell_type": "markdown",
   "id": "ababee18-7992-4b96-87cb-824cdadd188e",
   "metadata": {},
   "source": [
    "# Plot boundaries mesh tags of a 3D dolfinx mesh"
   ]
  },
  {
   "cell_type": "code",
   "execution_count": null,
   "id": "775eabcd-7a6c-4725-963b-d0208ae1498e",
   "metadata": {},
   "outputs": [],
   "source": [
    "import dolfinx.mesh\n",
    "import mpi4py.MPI\n",
    "import numpy as np"
   ]
  },
  {
   "cell_type": "code",
   "execution_count": null,
   "id": "d000a091-97d1-4f3d-8d1d-33729bc5abf3",
   "metadata": {},
   "outputs": [],
   "source": [
    "import viskex"
   ]
  },
  {
   "cell_type": "code",
   "execution_count": null,
   "id": "84ee1245-b9ff-4a05-8293-87c4918db46e",
   "metadata": {},
   "outputs": [],
   "source": [
    "import common_dolfinx as common  # isort: skip"
   ]
  },
  {
   "cell_type": "markdown",
   "id": "daa79467-3d6f-415b-a586-e638019de96e",
   "metadata": {},
   "source": [
    "Generate meshes of the unit cube by dividing each edge of the cube in 3 segments, using either a tetrahedral or hexahedral mesh."
   ]
  },
  {
   "cell_type": "code",
   "execution_count": null,
   "id": "5c9377b2-2ad3-45c7-9d05-7a71f21be882",
   "metadata": {},
   "outputs": [],
   "source": [
    "cube_tetra = dolfinx.mesh.create_unit_cube(mpi4py.MPI.COMM_WORLD, 3, 3, 3, dolfinx.mesh.CellType.tetrahedron)\n",
    "cube_hexa = dolfinx.mesh.create_unit_cube(mpi4py.MPI.COMM_WORLD, 3, 3, 3, dolfinx.mesh.CellType.hexahedron)"
   ]
  },
  {
   "cell_type": "markdown",
   "id": "377f2866-d5b6-4202-8250-6b5300c577f0",
   "metadata": {},
   "source": [
    "Mark boundaries according to the $(x, y, z)$ position of the vertices of the mesh:\n",
    "* if $x > 0$ and $x \\leq \\frac{1}{3}$, assign boundary mesh tag equal to $1$;\n",
    "* if $x \\geq \\frac{2}{3}$ and $x < 1$, assign boundary mesh tag equal to $2$;\n",
    "* if $x = 0$, assign boundary mesh tag equal to $3$;\n",
    "* if $x = 1$, assign boundary mesh tag equal to $4$;\n",
    "* otherwise, leave the boundary mesh tag unassigned."
   ]
  },
  {
   "cell_type": "code",
   "execution_count": null,
   "id": "20ee42ad-f9ba-4d68-816d-80a7d9601783",
   "metadata": {},
   "outputs": [],
   "source": [
    "cube_tetra_subdomains = common.mark_subdomains(cube_tetra)\n",
    "cube_hexa_subdomains = common.mark_subdomains(cube_hexa)\n",
    "cube_tetra_boundaries = common.mark_boundaries(cube_tetra, cube_tetra_subdomains)\n",
    "cube_hexa_boundaries = common.mark_boundaries(cube_hexa, cube_hexa_subdomains)"
   ]
  },
  {
   "cell_type": "markdown",
   "id": "a022d9ae-52bd-459b-8dc0-f607b12ff6c4",
   "metadata": {},
   "source": [
    "We first plot all boundaries with tag equal to $2$, which will be displayed with colors. The rest of the mesh facets are still included in the plot, but are colored in gray."
   ]
  },
  {
   "cell_type": "code",
   "execution_count": null,
   "id": "913e84cd-3f03-429d-a837-a697fcdd6a37",
   "metadata": {},
   "outputs": [],
   "source": [
    "viskex.dolfinx.plot_mesh_entities(\n",
    "    cube_tetra, 2, \"boundaries_2\", cube_tetra_boundaries.indices[cube_tetra_boundaries.values == 2],\n",
    "    opacity=0.5)"
   ]
  },
  {
   "cell_type": "markdown",
   "id": "d531e927-7e50-4422-b216-1490ac086776",
   "metadata": {},
   "source": [
    "We can also select more than one tag, but still plot them with the same color."
   ]
  },
  {
   "cell_type": "code",
   "execution_count": null,
   "id": "1733bbe3-0ca4-4c52-8e8b-7e12f16396c7",
   "metadata": {},
   "outputs": [],
   "source": [
    "viskex.dolfinx.plot_mesh_entities(\n",
    "    cube_tetra, 2, \"boundaries_24\", cube_tetra_boundaries.indices[np.isin(cube_tetra_boundaries.values, (1, 4))])"
   ]
  },
  {
   "cell_type": "markdown",
   "id": "156a60d0-7f98-47f5-9fbe-07f36ef29389",
   "metadata": {},
   "source": [
    "We next plot all boundaries, extracting their indices and values from the mesh tags."
   ]
  },
  {
   "cell_type": "code",
   "execution_count": null,
   "id": "23b06e62-7b7a-49aa-8123-9c448b58b8f4",
   "metadata": {},
   "outputs": [],
   "source": [
    "viskex.dolfinx.plot_mesh_entities(\n",
    "    cube_tetra, 2, \"boundaries\", cube_tetra_boundaries.indices, cube_tetra_boundaries.values)"
   ]
  },
  {
   "cell_type": "markdown",
   "id": "01d6b0db-6a79-42c4-b36a-22597df9748a",
   "metadata": {},
   "source": [
    "For simplicity, mesh tags can also be plotted directly without extracting their indices and values."
   ]
  },
  {
   "cell_type": "code",
   "execution_count": null,
   "id": "266031cd-cb85-46bc-8ca1-fb9225f474d3",
   "metadata": {},
   "outputs": [],
   "source": [
    "viskex.dolfinx.plot_mesh_tags(cube_tetra, cube_tetra_boundaries, \"boundaries\")"
   ]
  },
  {
   "cell_type": "code",
   "execution_count": null,
   "id": "2934b3ce-52bb-46ca-b063-0b78303275a4",
   "metadata": {},
   "outputs": [],
   "source": [
    "viskex.dolfinx.plot_mesh_tags(cube_hexa, cube_hexa_boundaries, \"boundaries\")"
   ]
  }
 ],
 "metadata": {
  "kernelspec": {
   "display_name": "Python 3 (ipykernel)",
   "language": "python",
   "name": "python3"
  },
  "language_info": {
   "codemirror_mode": {
    "name": "ipython"
   },
   "file_extension": ".py",
   "mimetype": "text/x-python",
   "name": "python",
   "nbconvert_exporter": "python"
  }
 },
 "nbformat": 4,
 "nbformat_minor": 5
}
