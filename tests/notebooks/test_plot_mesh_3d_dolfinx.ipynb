{
 "cells": [
  {
   "cell_type": "code",
   "execution_count": null,
   "id": "775eabcd-7a6c-4725-963b-d0208ae1498e",
   "metadata": {},
   "outputs": [],
   "source": [
    "import dolfinx.mesh\n",
    "import mpi4py.MPI"
   ]
  },
  {
   "cell_type": "code",
   "execution_count": null,
   "id": "d000a091-97d1-4f3d-8d1d-33729bc5abf3",
   "metadata": {},
   "outputs": [],
   "source": [
    "import viskex"
   ]
  },
  {
   "cell_type": "code",
   "execution_count": null,
   "id": "331a5e8a-8b43-4cc1-81c1-1b07d3d84bdb",
   "metadata": {},
   "outputs": [],
   "source": [
    "cube_tetra = dolfinx.mesh.create_unit_cube(mpi4py.MPI.COMM_WORLD, 3, 3, 3, dolfinx.mesh.CellType.tetrahedron)\n",
    "cube_hexa = dolfinx.mesh.create_unit_cube(mpi4py.MPI.COMM_WORLD, 3, 3, 3, dolfinx.mesh.CellType.hexahedron)"
   ]
  },
  {
   "cell_type": "code",
   "execution_count": null,
   "id": "c16e33b1-f677-40bc-b8c8-acf5c37dde8c",
   "metadata": {},
   "outputs": [],
   "source": [
    "viskex.dolfinx.plot_mesh(cube_tetra)"
   ]
  },
  {
   "cell_type": "code",
   "execution_count": null,
   "id": "34c17dd1-0c27-4cf3-961f-ded7b39872b2",
   "metadata": {},
   "outputs": [],
   "source": [
    "viskex.dolfinx.plot_mesh(cube_tetra, dim=3)"
   ]
  },
  {
   "cell_type": "code",
   "execution_count": null,
   "id": "7eb83971-507f-435c-a69b-adbd4383f834",
   "metadata": {},
   "outputs": [],
   "source": [
    "viskex.dolfinx.plot_mesh(cube_tetra, dim=2)"
   ]
  },
  {
   "cell_type": "code",
   "execution_count": null,
   "id": "0fdfc9e1-c8ad-464e-b7af-74c7c9068b75",
   "metadata": {},
   "outputs": [],
   "source": [
    "viskex.dolfinx.plot_mesh(cube_tetra, dim=1)"
   ]
  },
  {
   "cell_type": "code",
   "execution_count": null,
   "id": "220f548f-30be-4362-9950-059354373c64",
   "metadata": {},
   "outputs": [],
   "source": [
    "viskex.dolfinx.plot_mesh(cube_tetra, dim=0)"
   ]
  },
  {
   "cell_type": "code",
   "execution_count": null,
   "id": "bd43fbae-5295-4807-8f09-424abc3598ad",
   "metadata": {},
   "outputs": [],
   "source": [
    "viskex.dolfinx.plot_mesh(cube_hexa)"
   ]
  },
  {
   "cell_type": "code",
   "execution_count": null,
   "id": "7db178ac-d5c4-467f-9bf8-01a2781bbc90",
   "metadata": {},
   "outputs": [],
   "source": [
    "viskex.dolfinx.plot_mesh(cube_hexa, dim=3)"
   ]
  },
  {
   "cell_type": "code",
   "execution_count": null,
   "id": "81c8d9a6-af4d-4060-ae0c-5a19156b05cd",
   "metadata": {},
   "outputs": [],
   "source": [
    "viskex.dolfinx.plot_mesh(cube_hexa, dim=2)"
   ]
  },
  {
   "cell_type": "code",
   "execution_count": null,
   "id": "c26b62e1-9eac-4d26-bd36-cb491ef30e6b",
   "metadata": {},
   "outputs": [],
   "source": [
    "viskex.dolfinx.plot_mesh(cube_hexa, dim=1)"
   ]
  },
  {
   "cell_type": "code",
   "execution_count": null,
   "id": "153216bb-3105-4ed3-8da5-410724b6eaba",
   "metadata": {},
   "outputs": [],
   "source": [
    "viskex.dolfinx.plot_mesh(cube_hexa, dim=0)"
   ]
  }
 ],
 "metadata": {
  "kernelspec": {
   "display_name": "Python 3 (ipykernel)",
   "language": "python",
   "name": "python3"
  },
  "language_info": {
   "codemirror_mode": {
    "name": "ipython"
   },
   "file_extension": ".py",
   "mimetype": "text/x-python",
   "name": "python",
   "nbconvert_exporter": "python"
  }
 },
 "nbformat": 4,
 "nbformat_minor": 5
}
