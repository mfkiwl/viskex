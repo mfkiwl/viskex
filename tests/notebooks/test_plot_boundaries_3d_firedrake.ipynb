{
 "cells": [
  {
   "cell_type": "code",
   "execution_count": null,
   "id": "1918a541-9f09-429e-891e-66547863295c",
   "metadata": {},
   "outputs": [],
   "source": [
    "import firedrake\n",
    "import numpy as np"
   ]
  },
  {
   "cell_type": "code",
   "execution_count": null,
   "id": "ffc8aee3-bf2c-4fd5-99e1-8cd572a10741",
   "metadata": {},
   "outputs": [],
   "source": [
    "import viskex"
   ]
  },
  {
   "cell_type": "code",
   "execution_count": null,
   "id": "5b9e6595-6544-498f-aebc-d5ea6118f9b5",
   "metadata": {},
   "outputs": [],
   "source": [
    "import common_firedrake as common  # isort: skip"
   ]
  },
  {
   "cell_type": "code",
   "execution_count": null,
   "id": "299035da-8dd2-4d69-a740-4ce9f770865d",
   "metadata": {},
   "outputs": [],
   "source": [
    "cube_tetra = firedrake.UnitCubeMesh(3, 3, 3, hexahedral=False)\n",
    "cube_hexa = firedrake.UnitCubeMesh(3, 3, 3, hexahedral=True)"
   ]
  },
  {
   "cell_type": "code",
   "execution_count": null,
   "id": "6a27c566-edef-4926-a7e1-0663d4345060",
   "metadata": {},
   "outputs": [],
   "source": [
    "cube_tetra_with_boundaries = common.mark_boundaries(cube_tetra)\n",
    "cube_hexa_with_boundaries = common.mark_boundaries(cube_hexa)"
   ]
  },
  {
   "cell_type": "code",
   "execution_count": null,
   "id": "6b7beee0-8481-49a0-95f0-a065afc6b917",
   "metadata": {},
   "outputs": [],
   "source": [
    "viskex.firedrake.plot_mesh_entities(\n",
    "    cube_tetra_with_boundaries, 2, \"boundaries\",\n",
    "    cube_tetra_with_boundaries.exterior_facets.measure_set(\"exterior_facet\", 4).indices)"
   ]
  },
  {
   "cell_type": "code",
   "execution_count": null,
   "id": "3de5fced-6680-42e4-8a9e-accd3184c94b",
   "metadata": {},
   "outputs": [],
   "source": [
    "viskex.firedrake.plot_mesh_entities(\n",
    "    cube_tetra_with_boundaries, 2, \"boundaries\",\n",
    "    np.concatenate((\n",
    "        cube_tetra_with_boundaries.exterior_facets.measure_set(\"exterior_facet\", 2).indices,\n",
    "        cube_tetra_with_boundaries.exterior_facets.measure_set(\"exterior_facet\", \"everywhere\").size\n",
    "        + cube_tetra_with_boundaries.interior_facets.measure_set(\"interior_facet\", 2).indices\n",
    "    )), opacity=0.5)"
   ]
  },
  {
   "cell_type": "code",
   "execution_count": null,
   "id": "2af63e81-94c4-4609-9bdd-6e6f0d1c3ff1",
   "metadata": {},
   "outputs": [],
   "source": [
    "viskex.firedrake.plot_mesh_sets(cube_tetra_with_boundaries, 2, \"boundaries\")"
   ]
  },
  {
   "cell_type": "code",
   "execution_count": null,
   "id": "c81321b6-4e35-431c-8dd5-bdc1fdca2b32",
   "metadata": {},
   "outputs": [],
   "source": [
    "viskex.firedrake.plot_mesh_sets(cube_hexa_with_boundaries, 2, \"boundaries\")"
   ]
  }
 ],
 "metadata": {
  "kernelspec": {
   "display_name": "Python 3 (ipykernel)",
   "language": "python",
   "name": "python3"
  },
  "language_info": {
   "codemirror_mode": {
    "name": "ipython"
   },
   "file_extension": ".py",
   "mimetype": "text/x-python",
   "name": "python",
   "nbconvert_exporter": "python"
  }
 },
 "nbformat": 4,
 "nbformat_minor": 5
}
