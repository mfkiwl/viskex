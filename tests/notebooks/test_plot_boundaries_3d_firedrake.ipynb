{
 "cells": [
  {
   "cell_type": "markdown",
   "id": "cd88aee3-d05a-4e59-b855-5e252519b4fa",
   "metadata": {},
   "source": [
    "# Plot boundaries mesh sets of a 3D firedrake mesh"
   ]
  },
  {
   "cell_type": "code",
   "execution_count": null,
   "id": "1918a541-9f09-429e-891e-66547863295c",
   "metadata": {},
   "outputs": [],
   "source": [
    "import firedrake\n",
    "import numpy as np"
   ]
  },
  {
   "cell_type": "code",
   "execution_count": null,
   "id": "ffc8aee3-bf2c-4fd5-99e1-8cd572a10741",
   "metadata": {},
   "outputs": [],
   "source": [
    "import viskex"
   ]
  },
  {
   "cell_type": "code",
   "execution_count": null,
   "id": "5b9e6595-6544-498f-aebc-d5ea6118f9b5",
   "metadata": {},
   "outputs": [],
   "source": [
    "import common_firedrake as common  # isort: skip"
   ]
  },
  {
   "cell_type": "markdown",
   "id": "3d3c48e9-c504-4c56-8fa2-6864de76e587",
   "metadata": {},
   "source": [
    "Generate meshes of the unit cube by dividing each edge of the cube in 3 segments, using either a tetrahedral or hexahedral mesh."
   ]
  },
  {
   "cell_type": "code",
   "execution_count": null,
   "id": "299035da-8dd2-4d69-a740-4ce9f770865d",
   "metadata": {},
   "outputs": [],
   "source": [
    "cube_tetra = firedrake.UnitCubeMesh(3, 3, 3, hexahedral=False)\n",
    "cube_hexa = firedrake.UnitCubeMesh(3, 3, 3, hexahedral=True)"
   ]
  },
  {
   "cell_type": "markdown",
   "id": "8d6a34a4-bc6a-46c1-bfc9-0e13ea6668a0",
   "metadata": {},
   "source": [
    "Mark boundaries according to the $(x, y, z)$ position of the vertices of the mesh:\n",
    "* if $x > 0$ and $x \\leq \\frac{1}{3}$, assign boundary mesh tag equal to $1$;\n",
    "* if $x \\geq \\frac{2}{3}$ and $x < 1$, assign boundary mesh tag equal to $2$;\n",
    "* if $x = 0$, assign boundary mesh tag equal to $3$;\n",
    "* if $x = 1$, assign boundary mesh tag equal to $4$;\n",
    "* otherwise, leave the boundary mesh tag unassigned."
   ]
  },
  {
   "cell_type": "code",
   "execution_count": null,
   "id": "6a27c566-edef-4926-a7e1-0663d4345060",
   "metadata": {},
   "outputs": [],
   "source": [
    "cube_tetra_with_boundaries = common.mark_boundaries(cube_tetra)\n",
    "cube_hexa_with_boundaries = common.mark_boundaries(cube_hexa)"
   ]
  },
  {
   "cell_type": "markdown",
   "id": "564ddda6-8c84-4bad-9fa7-7390d7c0f4ae",
   "metadata": {},
   "source": [
    "We first plot all boundaries with tag equal to $4$ (first plot) or $2$ (second plot), which will be displayed with colors. The rest of the mesh facets are still included in the plot, but are colored in gray."
   ]
  },
  {
   "cell_type": "code",
   "execution_count": null,
   "id": "6b7beee0-8481-49a0-95f0-a065afc6b917",
   "metadata": {},
   "outputs": [],
   "source": [
    "viskex.firedrake.plot_mesh_entities(\n",
    "    cube_tetra_with_boundaries, 2, \"boundaries_4\",\n",
    "    cube_tetra_with_boundaries.exterior_facets.measure_set(\"exterior_facet\", 4).indices)"
   ]
  },
  {
   "cell_type": "code",
   "execution_count": null,
   "id": "3de5fced-6680-42e4-8a9e-accd3184c94b",
   "metadata": {},
   "outputs": [],
   "source": [
    "viskex.firedrake.plot_mesh_entities(\n",
    "    cube_tetra_with_boundaries, 2, \"boundaries_2\",\n",
    "    np.concatenate((\n",
    "        cube_tetra_with_boundaries.exterior_facets.measure_set(\"exterior_facet\", 2).indices,\n",
    "        cube_tetra_with_boundaries.exterior_facets.measure_set(\"exterior_facet\", \"everywhere\").size\n",
    "        + cube_tetra_with_boundaries.interior_facets.measure_set(\"interior_facet\", 2).indices\n",
    "    )), opacity=0.5)"
   ]
  },
  {
   "cell_type": "markdown",
   "id": "f170bf0d-ea34-4376-9839-c48e5483139c",
   "metadata": {},
   "source": [
    "We can also select more than one set, but still plot them with the same color."
   ]
  },
  {
   "cell_type": "code",
   "execution_count": null,
   "id": "3d14aac3-4384-4012-a7d3-dcb5e35f1a0e",
   "metadata": {},
   "outputs": [],
   "source": [
    "viskex.firedrake.plot_mesh_entities(\n",
    "    cube_tetra_with_boundaries, 2, \"boundaries_14\",\n",
    "    np.concatenate((\n",
    "        cube_tetra_with_boundaries.exterior_facets.measure_set(\"exterior_facet\", 1).indices,\n",
    "        cube_tetra_with_boundaries.exterior_facets.measure_set(\"exterior_facet\", \"everywhere\").size\n",
    "        + cube_tetra_with_boundaries.interior_facets.measure_set(\"interior_facet\", 1).indices,\n",
    "        cube_tetra_with_boundaries.exterior_facets.measure_set(\"exterior_facet\", 4).indices)))"
   ]
  },
  {
   "cell_type": "markdown",
   "id": "5dba0b63-737d-42df-a0c7-762e5a0b75c4",
   "metadata": {},
   "source": [
    "For simplicity, mesh sets can also be plotted directly without extracting their indices and values."
   ]
  },
  {
   "cell_type": "code",
   "execution_count": null,
   "id": "2af63e81-94c4-4609-9bdd-6e6f0d1c3ff1",
   "metadata": {},
   "outputs": [],
   "source": [
    "viskex.firedrake.plot_mesh_sets(cube_tetra_with_boundaries, 2, \"boundaries\")"
   ]
  },
  {
   "cell_type": "code",
   "execution_count": null,
   "id": "c81321b6-4e35-431c-8dd5-bdc1fdca2b32",
   "metadata": {},
   "outputs": [],
   "source": [
    "viskex.firedrake.plot_mesh_sets(cube_hexa_with_boundaries, 2, \"boundaries\")"
   ]
  },
  {
   "cell_type": "markdown",
   "id": "15c97120-12d2-4169-99b9-7d2ca8c9ac8b",
   "metadata": {},
   "source": [
    "The mesh sets are stored as part of the firedrake mesh object. If the mesh sets get removed, all cells will be displayed in gray in the plot."
   ]
  },
  {
   "cell_type": "code",
   "execution_count": null,
   "id": "71fbee6b-5e63-4cb2-97ff-dda22c71a192",
   "metadata": {},
   "outputs": [],
   "source": [
    "cube_tetra.topology_dm.removeLabel(firedrake.cython.dmcommon.FACE_SETS_LABEL)\n",
    "cube_hexa.topology_dm.removeLabel(firedrake.cython.dmcommon.FACE_SETS_LABEL)"
   ]
  },
  {
   "cell_type": "code",
   "execution_count": null,
   "id": "2ce6e43b-2d1b-4f45-969a-c10b0c872076",
   "metadata": {},
   "outputs": [],
   "source": [
    "viskex.firedrake.plot_mesh_sets(cube_tetra, 2, \"boundaries\")"
   ]
  },
  {
   "cell_type": "code",
   "execution_count": null,
   "id": "363d7c9e-a462-4cee-b40a-f8f7222d9e18",
   "metadata": {},
   "outputs": [],
   "source": [
    "viskex.firedrake.plot_mesh_sets(cube_hexa, 2, \"boundaries\")"
   ]
  }
 ],
 "metadata": {
  "kernelspec": {
   "display_name": "Python 3 (ipykernel)",
   "language": "python",
   "name": "python3"
  },
  "language_info": {
   "codemirror_mode": {
    "name": "ipython"
   },
   "file_extension": ".py",
   "mimetype": "text/x-python",
   "name": "python",
   "nbconvert_exporter": "python"
  }
 },
 "nbformat": 4,
 "nbformat_minor": 5
}
