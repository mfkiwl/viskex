{
 "cells": [
  {
   "cell_type": "code",
   "execution_count": null,
   "id": "1918a541-9f09-429e-891e-66547863295c",
   "metadata": {},
   "outputs": [],
   "source": [
    "import firedrake\n",
    "import numpy as np"
   ]
  },
  {
   "cell_type": "code",
   "execution_count": null,
   "id": "ffc8aee3-bf2c-4fd5-99e1-8cd572a10741",
   "metadata": {},
   "outputs": [],
   "source": [
    "import viskex"
   ]
  },
  {
   "cell_type": "code",
   "execution_count": null,
   "id": "5b9e6595-6544-498f-aebc-d5ea6118f9b5",
   "metadata": {},
   "outputs": [],
   "source": [
    "import common_firedrake as common  # isort: skip"
   ]
  },
  {
   "cell_type": "code",
   "execution_count": null,
   "id": "9f7fd3e8-847d-4f57-8ea2-6aedd6cf7649",
   "metadata": {},
   "outputs": [],
   "source": [
    "square_tria = firedrake.UnitSquareMesh(3, 3, quadrilateral=False, diagonal=\"right\")\n",
    "square_quad = firedrake.UnitSquareMesh(3, 3, quadrilateral=True, diagonal=\"right\")"
   ]
  },
  {
   "cell_type": "code",
   "execution_count": null,
   "id": "f2956fb0-7ac5-45c6-ae5b-dbcbeb4fe95d",
   "metadata": {},
   "outputs": [],
   "source": [
    "square_tria_with_subdomains = common.mark_subdomains(square_tria)\n",
    "square_quad_with_subdomains = common.mark_subdomains(square_quad)"
   ]
  },
  {
   "cell_type": "code",
   "execution_count": null,
   "id": "b8b00c68-ef6b-49e4-b614-1fa73630d194",
   "metadata": {},
   "outputs": [],
   "source": [
    "viskex.firedrake.plot_mesh_entities(\n",
    "    square_tria_with_subdomains, 2, \"subdomains\", square_tria_with_subdomains.cell_subset(2).indices)"
   ]
  },
  {
   "cell_type": "code",
   "execution_count": null,
   "id": "21f83327-f3fa-47d2-a1e4-6e110b6c461b",
   "metadata": {},
   "outputs": [],
   "source": [
    "viskex.firedrake.plot_mesh_entities(\n",
    "    square_tria_with_subdomains, 2, \"subdomains\", square_tria_with_subdomains.cell_subset(2).indices,\n",
    "    2 * np.ones_like(square_tria_with_subdomains.cell_subset(2).indices))"
   ]
  },
  {
   "cell_type": "code",
   "execution_count": null,
   "id": "99139a19-cca7-482f-8675-4b8a74e9db56",
   "metadata": {},
   "outputs": [],
   "source": [
    "viskex.firedrake.plot_mesh_sets(square_tria_with_subdomains, 2, \"subdomains\")"
   ]
  },
  {
   "cell_type": "code",
   "execution_count": null,
   "id": "993160a3-5243-4d2a-b508-c77c128578d2",
   "metadata": {},
   "outputs": [],
   "source": [
    "viskex.firedrake.plot_mesh_sets(square_quad_with_subdomains, 2, \"subdomains\")"
   ]
  }
 ],
 "metadata": {
  "kernelspec": {
   "display_name": "Python 3 (ipykernel)",
   "language": "python",
   "name": "python3"
  },
  "language_info": {
   "codemirror_mode": {
    "name": "ipython"
   },
   "file_extension": ".py",
   "mimetype": "text/x-python",
   "name": "python",
   "nbconvert_exporter": "python"
  }
 },
 "nbformat": 4,
 "nbformat_minor": 5
}
