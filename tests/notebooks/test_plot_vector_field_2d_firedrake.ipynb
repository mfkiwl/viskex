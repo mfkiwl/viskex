{
 "cells": [
  {
   "cell_type": "code",
   "execution_count": null,
   "id": "1918a541-9f09-429e-891e-66547863295c",
   "metadata": {},
   "outputs": [],
   "source": [
    "import firedrake"
   ]
  },
  {
   "cell_type": "code",
   "execution_count": null,
   "id": "ffc8aee3-bf2c-4fd5-99e1-8cd572a10741",
   "metadata": {},
   "outputs": [],
   "source": [
    "import viskex"
   ]
  },
  {
   "cell_type": "code",
   "execution_count": null,
   "id": "5b9e6595-6544-498f-aebc-d5ea6118f9b5",
   "metadata": {},
   "outputs": [],
   "source": [
    "import common_firedrake as common  # isort: skip"
   ]
  },
  {
   "cell_type": "code",
   "execution_count": null,
   "id": "40088943-9360-4478-9103-a814b7030a7a",
   "metadata": {},
   "outputs": [],
   "source": [
    "square_tria = firedrake.UnitSquareMesh(3, 3, quadrilateral=False, diagonal=\"right\")\n",
    "square_quad = firedrake.UnitSquareMesh(3, 3, quadrilateral=True, diagonal=\"right\")"
   ]
  },
  {
   "cell_type": "code",
   "execution_count": null,
   "id": "94819b64-f9f2-4aef-9f99-334a8bf3703e",
   "metadata": {},
   "outputs": [],
   "source": [
    "square_tria_vector_field, square_tria_vector_field_ufl = common.prepare_vector_field_cases(\n",
    "    square_tria, lambda x: (x[0]**3 + x[1]**2, x[0]**5 + x[1]**4))\n",
    "square_quad_vector_field, square_quad_vector_field_ufl = common.prepare_vector_field_cases(\n",
    "    square_quad, lambda x: (x[0]**3 + x[1]**2, x[0]**5 + x[1]**4))"
   ]
  },
  {
   "cell_type": "code",
   "execution_count": null,
   "id": "28905f9a-cde4-4f8b-a051-95df55185ea4",
   "metadata": {},
   "outputs": [],
   "source": [
    "viskex.firedrake.plot_vector_field(square_tria_vector_field, \"vector\")"
   ]
  },
  {
   "cell_type": "code",
   "execution_count": null,
   "id": "e2656826-0617-449e-98a9-c89c059a9085",
   "metadata": {},
   "outputs": [],
   "source": [
    "viskex.firedrake.plot_vector_field(square_tria_vector_field, \"vector\", glyph_factor=0.1)"
   ]
  },
  {
   "cell_type": "code",
   "execution_count": null,
   "id": "03de0606-8a19-4826-af11-3a917ccd37d4",
   "metadata": {},
   "outputs": [],
   "source": [
    "viskex.firedrake.plot_vector_field(square_tria_vector_field, \"vector\", warp_factor=1.0)"
   ]
  },
  {
   "cell_type": "code",
   "execution_count": null,
   "id": "df520bfd-2307-40b3-b91f-2241133ee576",
   "metadata": {},
   "outputs": [],
   "source": [
    "viskex.firedrake.plot_vector_field(square_tria_vector_field_ufl, \"vector\")"
   ]
  },
  {
   "cell_type": "code",
   "execution_count": null,
   "id": "bdab7487-bfeb-4228-8366-b35469d51d8f",
   "metadata": {},
   "outputs": [],
   "source": [
    "viskex.firedrake.plot_vector_field(square_quad_vector_field, \"vector\")"
   ]
  },
  {
   "cell_type": "code",
   "execution_count": null,
   "id": "16ef35bd-4bf6-4e1f-bdac-a5207b2a19ab",
   "metadata": {},
   "outputs": [],
   "source": [
    "viskex.firedrake.plot_vector_field(square_quad_vector_field, \"vector\", glyph_factor=0.1)"
   ]
  },
  {
   "cell_type": "code",
   "execution_count": null,
   "id": "20132e3f-a03b-4d78-bdac-cdd782a69217",
   "metadata": {},
   "outputs": [],
   "source": [
    "viskex.firedrake.plot_vector_field(square_quad_vector_field, \"vector\", glyph_factor=0.1)"
   ]
  },
  {
   "cell_type": "code",
   "execution_count": null,
   "id": "73fca169-47e6-4ab5-97a2-15c540a096c3",
   "metadata": {},
   "outputs": [],
   "source": [
    "viskex.firedrake.plot_vector_field(square_quad_vector_field, \"vector\", warp_factor=1.0)"
   ]
  }
 ],
 "metadata": {
  "kernelspec": {
   "display_name": "Python 3 (ipykernel)",
   "language": "python",
   "name": "python3"
  },
  "language_info": {
   "codemirror_mode": {
    "name": "ipython"
   },
   "file_extension": ".py",
   "mimetype": "text/x-python",
   "name": "python",
   "nbconvert_exporter": "python"
  }
 },
 "nbformat": 4,
 "nbformat_minor": 5
}
