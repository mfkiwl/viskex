{
 "cells": [
  {
   "cell_type": "code",
   "execution_count": null,
   "id": "775eabcd-7a6c-4725-963b-d0208ae1498e",
   "metadata": {},
   "outputs": [],
   "source": [
    "import dolfinx.mesh\n",
    "import mpi4py.MPI"
   ]
  },
  {
   "cell_type": "code",
   "execution_count": null,
   "id": "d000a091-97d1-4f3d-8d1d-33729bc5abf3",
   "metadata": {},
   "outputs": [],
   "source": [
    "import viskex"
   ]
  },
  {
   "cell_type": "code",
   "execution_count": null,
   "id": "84ee1245-b9ff-4a05-8293-87c4918db46e",
   "metadata": {},
   "outputs": [],
   "source": [
    "import common_dolfinx as common  # isort: skip"
   ]
  },
  {
   "cell_type": "code",
   "execution_count": null,
   "id": "4ff87184-2fe4-4093-805b-f946925e365c",
   "metadata": {},
   "outputs": [],
   "source": [
    "square_tria = dolfinx.mesh.create_unit_square(mpi4py.MPI.COMM_WORLD, 3, 3, dolfinx.mesh.CellType.triangle)\n",
    "square_quad = dolfinx.mesh.create_unit_square(mpi4py.MPI.COMM_WORLD, 3, 3, dolfinx.mesh.CellType.quadrilateral)"
   ]
  },
  {
   "cell_type": "code",
   "execution_count": null,
   "id": "e9dece88-63a8-4fde-8b44-7ab91e30df1c",
   "metadata": {},
   "outputs": [],
   "source": [
    "square_tria_vector_field, square_tria_vector_field_ufl = common.prepare_vector_field_cases(\n",
    "    square_tria, lambda x: (x[0]**3 + x[1]**2, x[0]**5 + x[1]**4))\n",
    "square_quad_vector_field, square_quad_vector_field_ufl = common.prepare_vector_field_cases(\n",
    "    square_quad, lambda x: (x[0]**3 + x[1]**2, x[0]**5 + x[1]**4))"
   ]
  },
  {
   "cell_type": "code",
   "execution_count": null,
   "id": "7e734fb4-d577-4c39-9128-b1084f7e62fe",
   "metadata": {},
   "outputs": [],
   "source": [
    "viskex.dolfinx.plot_vector_field(square_tria_vector_field, \"vector\")"
   ]
  },
  {
   "cell_type": "code",
   "execution_count": null,
   "id": "e634d375-f643-49ae-9d49-fa0e9381f0ce",
   "metadata": {},
   "outputs": [],
   "source": [
    "viskex.dolfinx.plot_vector_field(square_tria_vector_field, \"vector\", glyph_factor=0.1)"
   ]
  },
  {
   "cell_type": "code",
   "execution_count": null,
   "id": "81d145b2-3ff8-45a5-a6c2-d6358c37a653",
   "metadata": {},
   "outputs": [],
   "source": [
    "viskex.dolfinx.plot_vector_field(square_tria_vector_field, \"vector\", warp_factor=1.0)"
   ]
  },
  {
   "cell_type": "code",
   "execution_count": null,
   "id": "c6b2bc29-91ee-4a4a-80f6-c25183a19f17",
   "metadata": {},
   "outputs": [],
   "source": [
    "viskex.dolfinx.plot_vector_field(square_tria_vector_field_ufl, \"vector\")"
   ]
  },
  {
   "cell_type": "code",
   "execution_count": null,
   "id": "9398fcef-700b-4a4e-a6d9-1280f377d949",
   "metadata": {},
   "outputs": [],
   "source": [
    "viskex.dolfinx.plot_vector_field(square_quad_vector_field, \"vector\")"
   ]
  },
  {
   "cell_type": "code",
   "execution_count": null,
   "id": "d16b8e2e-685a-4998-aa2d-1c71dd8af8e1",
   "metadata": {},
   "outputs": [],
   "source": [
    "viskex.dolfinx.plot_vector_field(square_quad_vector_field, \"vector\", glyph_factor=0.1)"
   ]
  },
  {
   "cell_type": "code",
   "execution_count": null,
   "id": "a98eaa27-6834-4c14-9da1-db2e0dc4ffcf",
   "metadata": {},
   "outputs": [],
   "source": [
    "viskex.dolfinx.plot_vector_field(square_quad_vector_field, \"vector\", warp_factor=1.0)"
   ]
  }
 ],
 "metadata": {
  "kernelspec": {
   "display_name": "Python 3 (ipykernel)",
   "language": "python",
   "name": "python3"
  },
  "language_info": {
   "codemirror_mode": {
    "name": "ipython"
   },
   "file_extension": ".py",
   "mimetype": "text/x-python",
   "name": "python",
   "nbconvert_exporter": "python"
  }
 },
 "nbformat": 4,
 "nbformat_minor": 5
}
