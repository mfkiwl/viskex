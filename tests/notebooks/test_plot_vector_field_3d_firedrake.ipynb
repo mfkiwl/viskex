{
 "cells": [
  {
   "cell_type": "code",
   "execution_count": null,
   "id": "1918a541-9f09-429e-891e-66547863295c",
   "metadata": {},
   "outputs": [],
   "source": [
    "import firedrake"
   ]
  },
  {
   "cell_type": "code",
   "execution_count": null,
   "id": "ffc8aee3-bf2c-4fd5-99e1-8cd572a10741",
   "metadata": {},
   "outputs": [],
   "source": [
    "import viskex"
   ]
  },
  {
   "cell_type": "code",
   "execution_count": null,
   "id": "5b9e6595-6544-498f-aebc-d5ea6118f9b5",
   "metadata": {},
   "outputs": [],
   "source": [
    "import common_firedrake as common  # isort: skip"
   ]
  },
  {
   "cell_type": "code",
   "execution_count": null,
   "id": "54e8e821-eee2-4387-a527-39bbedadc1be",
   "metadata": {},
   "outputs": [],
   "source": [
    "cube_tetra = firedrake.UnitCubeMesh(3, 3, 3, hexahedral=False)\n",
    "cube_hexa = firedrake.UnitCubeMesh(3, 3, 3, hexahedral=True)"
   ]
  },
  {
   "cell_type": "code",
   "execution_count": null,
   "id": "597d9dc7-cc06-4028-9a47-3f664edab7cf",
   "metadata": {},
   "outputs": [],
   "source": [
    "cube_tetra_vector_field, cube_tetra_vector_field_ufl = common.prepare_vector_field_cases(\n",
    "    cube_tetra, lambda x: (x[0]**3 + x[1]**2 + x[2]**4, x[0]**6 + x[1]**5 + x[2]**7, x[0]**9 + x[1]**8 + x[2]**10))\n",
    "cube_hexa_vector_field, cube_hexa_vector_field_ufl = common.prepare_vector_field_cases(\n",
    "    cube_hexa, lambda x: (x[0]**3 + x[1]**2 + x[2]**4, x[0]**6 + x[1]**5 + x[2]**7, x[0]**9 + x[1]**8 + x[2]**10))"
   ]
  },
  {
   "cell_type": "code",
   "execution_count": null,
   "id": "1c68ea3a-39dc-4ba1-9ff8-445ec921d45a",
   "metadata": {},
   "outputs": [],
   "source": [
    "viskex.firedrake.plot_vector_field(cube_tetra_vector_field, \"vector\")"
   ]
  },
  {
   "cell_type": "code",
   "execution_count": null,
   "id": "7ea21964-ea7c-478f-ae32-abf4ec2e79d6",
   "metadata": {},
   "outputs": [],
   "source": [
    "viskex.firedrake.plot_vector_field(cube_tetra_vector_field, \"vector\", glyph_factor=0.1)"
   ]
  },
  {
   "cell_type": "code",
   "execution_count": null,
   "id": "c24af016-bfc5-4c87-95f2-59f1aa706cc8",
   "metadata": {},
   "outputs": [],
   "source": [
    "viskex.firedrake.plot_vector_field(cube_tetra_vector_field, \"vector\", warp_factor=1.0)"
   ]
  },
  {
   "cell_type": "code",
   "execution_count": null,
   "id": "62b286e5-9a21-4a50-81e7-5935d2519d3f",
   "metadata": {},
   "outputs": [],
   "source": [
    "viskex.firedrake.plot_vector_field(cube_hexa_vector_field, \"vector\")"
   ]
  },
  {
   "cell_type": "code",
   "execution_count": null,
   "id": "a078a92a-2b6b-42fd-9390-a12c810cc8a4",
   "metadata": {},
   "outputs": [],
   "source": [
    "viskex.firedrake.plot_vector_field(cube_hexa_vector_field, \"vector\", glyph_factor=0.1)"
   ]
  },
  {
   "cell_type": "code",
   "execution_count": null,
   "id": "712389dd-0d6d-4a83-a2b3-d3c2a6fc49bd",
   "metadata": {},
   "outputs": [],
   "source": [
    "viskex.firedrake.plot_vector_field(cube_hexa_vector_field, \"vector\", warp_factor=1.0)"
   ]
  }
 ],
 "metadata": {
  "kernelspec": {
   "display_name": "Python 3 (ipykernel)",
   "language": "python",
   "name": "python3"
  },
  "language_info": {
   "codemirror_mode": {
    "name": "ipython"
   },
   "file_extension": ".py",
   "mimetype": "text/x-python",
   "name": "python",
   "nbconvert_exporter": "python"
  }
 },
 "nbformat": 4,
 "nbformat_minor": 5
}
